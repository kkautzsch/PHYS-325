{
 "cells": [
  {
   "cell_type": "code",
   "execution_count": 1,
   "metadata": {},
   "outputs": [
    {
     "data": {
      "image/png": "[encoded data removed]",
      "text/plain": [
       "<Figure size 432x288 with 1 Axes>"
      ]
     },
     "metadata": {},
     "output_type": "display_data"
    }
   ],
   "source": [
    "#Exercise 2\n",
    "#Part ii\n",
    "\n",
    "\n",
    "%matplotlib inline\n",
    "import numpy as np\n",
    "import matplotlib.pyplot as plt\n",
    "import numpy as np\n",
    "import numpy.linalg as LA\n",
    "\n",
    "# import physical constants from SciPy\n",
    "from scipy.constants import G\n",
    "\n",
    "x0 = 1.4710e11 # distance= 1.4710×10^11 m from the Sun at perihelion defined at (x0,y0)\n",
    "y0 = 0 \n",
    "Vx0 = 0 \n",
    "Vy0 = 3.0287e4 #velocity at perihelion (Vx0,Vy0)              \n",
    "M = 1.9891e30  # Mass of the sun\n",
    "\n",
    "# definition of the ODE as vector function\n",
    "def f(a,t):\n",
    "    # x and y are vector elements\n",
    "    x=a[0]\n",
    "    y=a[1]\n",
    "    r = [x,y]\n",
    "    Vx=a[2]\n",
    "    Vy=a[3]\n",
    "    dx = Vx\n",
    "    dVx = -G*M*x/(LA.norm(r)**3)\n",
    "    dy = Vy\n",
    "    dVy = -G*M*y/(LA.norm(r)**3)\n",
    "    \n",
    "    return np.array([dx,dy,dVx,dVy],float)\n",
    "\n",
    "start = 0.0 \n",
    "end = 6.307e7 # seconds in 2 revolutions\n",
    "numSteps = 1000\n",
    "stepSize = (end-start)/numSteps\n",
    "\n",
    "tpoints = np.arange(start,end,stepSize)\n",
    "x = []\n",
    "y = []\n",
    "\n",
    "#initial condistions for a\n",
    "a = np.array([x0,y0,Vx0,Vy0],float) \n",
    "\n",
    "for t in tpoints:\n",
    "    x.append(a[0])\n",
    "    y.append(a[1])\n",
    "    \n",
    "    k1 = stepSize*f(a,t)\n",
    "    k2 = stepSize*f(a+0.5*k1,t+0.5*stepSize)\n",
    "    k3 = stepSize*f(a+0.5*k2,t+0.5*stepSize)\n",
    "    k4 = stepSize*f(a+k3,t+stepSize)\n",
    "    a += (k1+2*k2+2*k3+k4)/6\n",
    "\n",
    "plt.plot(x,y)\n",
    "plt.xlabel(\"x\")\n",
    "plt.ylabel('y')\n",
    "\n",
    "plt.show()\n",
    "\n",
    "\n"
   ]
  },
  {
   "cell_type": "code",
   "execution_count": 7,
   "metadata": {},
   "outputs": [
    {
     "ename": "IndexError",
     "evalue": "list index out of range",
     "output_type": "error",
     "traceback": [
      "\u001b[0;31m---------------------------------------------------------------------------\u001b[0m",
      "\u001b[0;31mIndexError\u001b[0m                                Traceback (most recent call last)",
      "\u001b[0;32m<ipython-input-7-f44f4f4a6283>\u001b[0m in \u001b[0;36m<module>\u001b[0;34m()\u001b[0m\n\u001b[1;32m      1\u001b[0m \u001b[0mk\u001b[0m \u001b[0;34m=\u001b[0m \u001b[0;34m[\u001b[0m\u001b[0;36m5\u001b[0m\u001b[0;34m]\u001b[0m\u001b[0;34m\u001b[0m\u001b[0m\n\u001b[1;32m      2\u001b[0m \u001b[0mw\u001b[0m \u001b[0;34m=\u001b[0m \u001b[0mk\u001b[0m\u001b[0;34m[\u001b[0m\u001b[0;36m0\u001b[0m\u001b[0;34m]\u001b[0m\u001b[0;34m\u001b[0m\u001b[0m\n\u001b[0;32m----> 3\u001b[0;31m \u001b[0mq\u001b[0m \u001b[0;34m=\u001b[0m \u001b[0mk\u001b[0m\u001b[0;34m[\u001b[0m\u001b[0;36m1\u001b[0m\u001b[0;34m]\u001b[0m\u001b[0;34m\u001b[0m\u001b[0m\n\u001b[0m\u001b[1;32m      4\u001b[0m \u001b[0mq\u001b[0m \u001b[0;34m=\u001b[0m \u001b[0;36m1\u001b[0m\u001b[0;34m\u001b[0m\u001b[0m\n\u001b[1;32m      5\u001b[0m \u001b[0mw\u001b[0m \u001b[0;34m=\u001b[0m \u001b[0;36m1\u001b[0m\u001b[0;34m\u001b[0m\u001b[0m\n",
      "\u001b[0;31mIndexError\u001b[0m: list index out of range"
     ]
    }
   ],
   "source": []
  },
  {
   "cell_type": "code",
   "execution_count": 12,
   "metadata": {},
   "outputs": [
    {
     "data": {
      "text/plain": [
       "5.0"
      ]
     },
     "execution_count": 12,
     "metadata": {},
     "output_type": "execute_result"
    }
   ],
   "source": [
    "d = [3,4]\n",
    "LA.norm(d)"
   ]
  },
  {
   "cell_type": "code",
   "execution_count": null,
   "metadata": {},
   "outputs": [],
   "source": []
  }
 ],
 "metadata": {
  "kernelspec": {
   "display_name": "Python 3",
   "language": "python",
   "name": "python3"
  },
  "language_info": {
   "codemirror_mode": {
    "name": "ipython",
    "version": 3
   },
   "file_extension": ".py",
   "mimetype": "text/x-python",
   "name": "python",
   "nbconvert_exporter": "python",
   "pygments_lexer": "ipython3",
   "version": "3.6.5"
  }
 },
 "nbformat": 4,
 "nbformat_minor": 2
}
