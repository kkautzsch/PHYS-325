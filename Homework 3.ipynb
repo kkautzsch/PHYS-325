{
 "cells": [
  {
   "cell_type": "markdown",
   "metadata": {},
   "source": [
    "<b>Exercise 1</b> <i>Numerical Stability</i>"
   ]
  },
  {
   "cell_type": "code",
   "execution_count": 1,
   "metadata": {},
   "outputs": [
    {
     "name": "stdout",
     "output_type": "stream",
     "text": [
      "Value for cosin at 10e-5 = 0.499999996961264515 and 10e-8 = 0.499600361081320499\n",
      "Value for sin at 10e-5 = 0.499999999583333410 and 10e-8 = 0.499999999999999556\n"
     ]
    }
   ],
   "source": [
    "#Import math for calculations\n",
    "import math\n",
    "\n",
    "#Set up variables for calculations\n",
    "x1 = float(10e-5)\n",
    "x2 = float(10e-8)\n",
    "\n",
    "#Now we write the mathematical expressions\n",
    "cos_x1 = (1-math.cos(x1))/(x1**2)\n",
    "cos_x2 = (1-math.cos(x2))/(x2**2)\n",
    "\n",
    "sin_x1 = 2*(math.sin(x1/2)/x1)**2\n",
    "sin_x2 = 2*(math.sin(x2/2)/x2)**2\n",
    "\n",
    "#Compare the values\n",
    "print(\"Value for cosin at 10e-5 = \" + str(\"%.18f\" % cos_x1) + \" and 10e-8 = \" + str(\"%.18f\" % cos_x2))\n",
    "print(\"Value for sin at 10e-5 = \" + str(\"%.18f\" % sin_x1) + \" and 10e-8 = \" + str(\"%.18f\" % sin_x2))"
   ]
  },
  {
   "cell_type": "markdown",
   "metadata": {},
   "source": [
    "For my values of cos(x) when x = 10e-5 and 10e-8 the values were 0.499999996961264515 for 10e-5 and 0.499600361081320499 for 10e-8 respectively. My values for sin(x) were 0.499999999583333410 for 10e-5 and\n",
    "0.499999999999999556 for 10e-8.\n",
    "\n",
    "I belive the cos(x) versions are going to be more accurate because it gives different integers out to the 18 I have instead of the repeat of 9 I get in the sin(x)."
   ]
  },
  {
   "cell_type": "markdown",
   "metadata": {},
   "source": [
    "<b>Exercise 2</b> <i>LU Decompisition</i>"
   ]
  },
  {
   "cell_type": "code",
   "execution_count": null,
   "metadata": {},
   "outputs": [],
   "source": []
  }
 ],
 "metadata": {
  "kernelspec": {
   "display_name": "Python 3",
   "language": "python",
   "name": "python3"
  },
  "language_info": {
   "codemirror_mode": {
    "name": "ipython",
    "version": 3
   },
   "file_extension": ".py",
   "mimetype": "text/x-python",
   "name": "python",
   "nbconvert_exporter": "python",
   "pygments_lexer": "ipython3",
   "version": "3.6.5"
  }
 },
 "nbformat": 4,
 "nbformat_minor": 2
}
