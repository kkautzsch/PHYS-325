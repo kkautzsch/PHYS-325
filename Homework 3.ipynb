{
 "cells": [
  {
   "cell_type": "markdown",
   "metadata": {},
   "source": [
    "<b>Exercise 1</b> <i>Numerical Stability</i>"
   ]
  },
  {
   "cell_type": "code",
   "execution_count": 2,
   "metadata": {},
   "outputs": [
    {
     "name": "stdout",
     "output_type": "stream",
     "text": [
      "Value for cosin at 10e-5 = 0.500000041370185389 and 10e-8 = 0.000000000000000000\n",
      "Value for sin at 10e-5 = 0.499999999995833222 and 10e-8 = 0.500000000000000000\n"
     ]
    }
   ],
   "source": [
    "#Kaleb Kautzsch Exercise 1\n",
    "#Import math for calculations\n",
    "import math\n",
    "import numpy as np\n",
    "\n",
    "#Set up variables for calculations\n",
    "x1 = float(10**-5)\n",
    "x2 = float(10**-8)\n",
    "\n",
    "#Now we write the mathematical expressions\n",
    "cos_x1 = (1-math.cos(x1))/(x1**2)\n",
    "cos_x2 = (1-math.cos(x2))/(x2**2)\n",
    "\n",
    "sin_x1 = 2*np.square((math.sin(x1/2))/(x1))\n",
    "sin_x2 = 2*np.square((math.sin(x2/2))/(x2))\n",
    "\n",
    "#Compare the values\n",
    "print(\"Value for cosin at 10e-5 = \" + str(\"%.18f\" % cos_x1) + \" and 10e-8 = \" + str(\"%.18f\" % cos_x2))\n",
    "print(\"Value for sin at 10e-5 = \" + str(\"%.18f\" % sin_x1) + \" and 10e-8 = \" + str(\"%.18f\" % sin_x2))"
   ]
  },
  {
   "cell_type": "markdown",
   "metadata": {},
   "source": [
    "For my values of cos(x) when x = 10e-5 and 10e-8 the values were 0.500000041370185389 for 10e-5 and 0.000000000000000000 for 10e-8 respectively. My values for sin(x) were 0.499999999995833222 for 10e-5 and\n",
    "0.500000000000000000 for 10e-8.\n",
    "\n",
    "After doing the lab and realizing that I am good at making typos I fixed some things in the code I had previously. Such as using 10e-5 instead of using 10**-5. After the changes I got much different values with sin(x1) being the most accurate against the true answer in the homework handout. I tried re-arraging the equations to solve for x, but the algebra did not work out for me. I believe there is a better way to do this but I cannot seem to figure it our currently."
   ]
  },
  {
   "cell_type": "markdown",
   "metadata": {},
   "source": [
    "<b>Exercise 3</b> <i>LU Decompisition with scipy</i>"
   ]
  },
  {
   "cell_type": "code",
   "execution_count": 14,
   "metadata": {},
   "outputs": [
    {
     "name": "stdout",
     "output_type": "stream",
     "text": [
      "[[0. 0. 1.]\n",
      " [1. 0. 0.]\n",
      " [0. 1. 0.]]\n",
      "[[1.         0.         0.        ]\n",
      " [0.66666667 1.         0.        ]\n",
      " [0.33333333 0.125      1.        ]]\n",
      "[[ 3.          8.          7.        ]\n",
      " [ 0.         -5.33333333  2.33333333]\n",
      " [ 0.          0.          0.375     ]]\n",
      "[1.00000000e+00 2.77555756e-17 1.11022302e-16]\n"
     ]
    }
   ],
   "source": [
    "#Kaleb Kautzsch Exercise 3\n",
    "#Import numpy and scipy\n",
    "import numpy as np\n",
    "import scipy.linalg as la\n",
    "\n",
    "#Make an array using numpy\n",
    "A = np.array([[1, 2, 3],\n",
    "              [3, 8, 7],\n",
    "              [2, 0, 7]])\n",
    "\n",
    "#Designate P, L, U to the transpose of the matrix and print the results\n",
    "(P, L, U) = la.lu(A)\n",
    "\n",
    "print(P)\n",
    "\n",
    "print(L)\n",
    "\n",
    "print(U)\n",
    "\n",
    "#Now solve a system of linear equations from matrix A as Ax=b\n",
    "b = np.array([1, 3, 2])\n",
    "LU = la.lu_factor(A)\n",
    "\n",
    "#Solve setting it to the variable x\n",
    "x = la.lu_solve(LU, b)\n",
    "\n",
    "print(x)"
   ]
  },
  {
   "cell_type": "markdown",
   "metadata": {},
   "source": [
    "I believe the results are different because of machine accuracy and it pivoted where I did not, possibly making it more accurate. The results for the linear equation really blew my mind getting this result: [1.00000000e+00 2.77555756e-17 1.11022302e-16] This shows me how much more accurate a computer can be compared to what I can be for really important things in the future."
   ]
  }
 ],
 "metadata": {
  "kernelspec": {
   "display_name": "Python 3",
   "language": "python",
   "name": "python3"
  },
  "language_info": {
   "codemirror_mode": {
    "name": "ipython",
    "version": 3
   },
   "file_extension": ".py",
   "mimetype": "text/x-python",
   "name": "python",
   "nbconvert_exporter": "python",
   "pygments_lexer": "ipython3",
   "version": "3.6.5"
  }
 },
 "nbformat": 4,
 "nbformat_minor": 2
}
