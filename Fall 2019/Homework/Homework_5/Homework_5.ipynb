{
 "cells": [
  {
   "cell_type": "markdown",
   "metadata": {},
   "source": [
    "# Exercise 1\n",
    "### Part (a)\n",
    "\n",
    "- Determinate is 0\n",
    "- Matrix does not have an inverse\n",
    "- The rank of the matrix should equal it's size, if not it is singular"
   ]
  },
  {
   "cell_type": "code",
   "execution_count": 2,
   "metadata": {},
   "outputs": [
    {
     "name": "stdout",
     "output_type": "stream",
     "text": [
      "\n",
      "Lower Diagonal\n",
      " [[ 1.   0.   0.   0. ]\n",
      " [-0.5  1.   0.   0. ]\n",
      " [ 0.5  0.   1.   0. ]\n",
      " [ 0.5  1.   0.   1. ]] \n",
      " \n",
      "Upper Diagonal\n",
      " [[2. 4. 6. 8.]\n",
      " [0. 2. 4. 4.]\n",
      " [0. 0. 0. 0.]\n",
      " [0. 0. 0. 0.]] \n",
      " \n",
      "Rank of matrix\n",
      " 2 \n",
      " \n",
      "Null Space is of dimension 2\n",
      " [[-0.55745009 -0.21538861]\n",
      " [ 0.54534419 -0.74815946]\n",
      " [-0.55745009 -0.21538861]\n",
      " [ 0.284778    0.58946834]]\n"
     ]
    }
   ],
   "source": [
    "#Kaleb Kautzsch\n",
    "#Part(b)\n",
    "\n",
    "import scipy as sp\n",
    "import numpy as np\n",
    "import numpy.linalg as nla\n",
    "import scipy.linalg as la\n",
    "\n",
    "#Matrix A\n",
    "a = sp.array([[2,4,6,8],\n",
    "             [-1,0,1,0],\n",
    "             [1,2,3,4],\n",
    "             [1,4,7,8]])\n",
    "\n",
    "#LU decomposition, rank, and null-space\n",
    "p,l,u = la.lu(a)\n",
    "rank = nla.matrix_rank(a)\n",
    "nSpace = la.null_space(a)\n",
    "\n",
    "print('\\nLower Diagonal\\n',l,'\\n','\\nUpper Diagonal\\n',u,'\\n','\\nRank of matrix\\n',rank,'\\n','\\nNull Space is of dimension 2\\n',nSpace)"
   ]
  },
  {
   "cell_type": "code",
   "execution_count": 3,
   "metadata": {},
   "outputs": [
    {
     "name": "stdout",
     "output_type": "stream",
     "text": [
      "[ 1.25207973e+01+0.j  4.79202711e-01+0.j -1.05487321e-14+0.j\n",
      "  5.47421787e-17+0.j] Eigenvalues of which 2 are equal to zero\n"
     ]
    }
   ],
   "source": [
    "#Part(c)\n",
    "\n",
    "#Eigenvalues and eigenvectors\n",
    "eigValues = la.eigvals(a)\n",
    "\n",
    "print(eigValues,'Eigenvalues of which 2 are equal to zero')"
   ]
  },
  {
   "cell_type": "code",
   "execution_count": 4,
   "metadata": {},
   "outputs": [
    {
     "name": "stdout",
     "output_type": "stream",
     "text": [
      "[1.67090363e+01 1.67573997e+00 1.80480067e-16 3.80103486e-17] Singualr Values of which 2 are equal to zero\n"
     ]
    }
   ],
   "source": [
    "#Part(d)\n",
    "\n",
    "#SVD on matrix\n",
    "U, S, Vh = la.svd(a)\n",
    "\n",
    "print(S,'Singualr Values of which 2 are equal to zero')"
   ]
  },
  {
   "cell_type": "code",
   "execution_count": 5,
   "metadata": {},
   "outputs": [
    {
     "name": "stdout",
     "output_type": "stream",
     "text": [
      "Solution\n",
      " [[0.42857143]\n",
      " [0.42857143]\n",
      " [0.42857143]\n",
      " [0.85714286]] \n",
      " \n",
      "Check to see solution is right\n",
      " (array([[0.42857143],\n",
      "       [0.42857143],\n",
      "       [0.42857143],\n",
      "       [0.85714286]]), array([], dtype=float64), 2, array([1.67090363e+01, 1.67573997e+00, 1.80480067e-16, 3.80103486e-17])) \n",
      "\n"
     ]
    }
   ],
   "source": [
    "#Part(e)\n",
    "\n",
    "#Solving Equations\n",
    "b = sp.array([[12],[0],[6],[12]])\n",
    "uTrans = U.transpose()\n",
    "diag = sp.array([[1/S[0],0,0,0],[0,1/S[1],0,0],[0,0,0,0],[0,0,0,0]])\n",
    "firstDot = sp.dot(Vh.transpose(),diag)\n",
    "secondDot = sp.dot(uTrans,b)\n",
    "x = sp.dot(firstDot,secondDot)\n",
    "check = la.lstsq(a,b)\n",
    "print('Solution\\n',x,'\\n','\\nCheck to see solution is right\\n',check,'\\n')"
   ]
  },
  {
   "cell_type": "markdown",
   "metadata": {},
   "source": [
    "# Exercise 2"
   ]
  },
  {
   "cell_type": "code",
   "execution_count": 6,
   "metadata": {},
   "outputs": [
    {
     "name": "stdout",
     "output_type": "stream",
     "text": [
      "2\n",
      "1.0\n",
      "5.0\n",
      "0.4\n",
      "10.4\n",
      "0.07692307692307693\n",
      "8.396923076923079\n",
      "0.018321729571271525\n",
      "1.310156049097899\n",
      "0.0279687745347386\n",
      "0.0759774241902131\n",
      "0.7362390824073594\n",
      "0.7404890733011719\n",
      "1.988521124626821\n",
      "3.0788751163466825\n",
      "1.291719247766276\n",
      "13.536535665652755\n",
      "0.19084931029197522\n",
      "35.161656645088655\n",
      "0.010855535745562367\n"
     ]
    }
   ],
   "source": [
    "#Kaleb Kautzsch\n",
    "#Part (a)\n",
    "\n",
    "a = 1\n",
    "b = 2\n",
    "x = 1\n",
    "y = 1\n",
    "\n",
    "for k in range(10):\n",
    "    x,y = y*(a + x**2), b/(a + x**2)\n",
    "    print(x)\n",
    "    print(y)"
   ]
  },
  {
   "cell_type": "markdown",
   "metadata": {},
   "source": [
    "### Part(b)\n",
    "\n",
    "#### Solve and reorder equations\n",
    "\n",
    "- Solve for x to get previous answer:\n",
    "$$x=y(a+x^2)$$\n",
    "\n",
    "- Solve for b in the second equation:\n",
    "$$b=y(a+x^2)$$\n",
    "\n",
    "- Showing this we can say that $$x=b$$ and can substitute it in for b to get a new y equation:\n",
    "$$y=b/(a+b^2)$$\n",
    "\n",
    "- Then we can solve for x in this equation to get a new equation for x:\n",
    "\n",
    "$$x=\\sqrt{(b/y)-a)}$$"
   ]
  },
  {
   "cell_type": "code",
   "execution_count": 11,
   "metadata": {},
   "outputs": [
    {
     "name": "stdout",
     "output_type": "stream",
     "text": [
      "1.0\n",
      "0.4\n",
      "2.0\n",
      "0.4\n",
      "2.0\n",
      "0.4\n",
      "2.0\n",
      "0.4\n",
      "2.0\n",
      "0.4\n",
      "2.0\n",
      "0.4\n",
      "2.0\n",
      "0.4\n",
      "2.0\n",
      "0.4\n",
      "2.0\n",
      "0.4\n",
      "2.0\n",
      "0.4\n"
     ]
    }
   ],
   "source": [
    "#Part(b)\n",
    "\n",
    "a = 1\n",
    "b = 2\n",
    "y = 1\n",
    "\n",
    "for k in range(10):\n",
    "    x,y = np.sqrt((b/y)-a), b/(a + b**2)\n",
    "    print(x)\n",
    "    print(y)"
   ]
  },
  {
   "cell_type": "code",
   "execution_count": null,
   "metadata": {},
   "outputs": [],
   "source": []
  }
 ],
 "metadata": {
  "kernelspec": {
   "display_name": "Python 3",
   "language": "python",
   "name": "python3"
  },
  "language_info": {
   "codemirror_mode": {
    "name": "ipython",
    "version": 3
   },
   "file_extension": ".py",
   "mimetype": "text/x-python",
   "name": "python",
   "nbconvert_exporter": "python",
   "pygments_lexer": "ipython3",
   "version": "3.7.3"
  }
 },
 "nbformat": 4,
 "nbformat_minor": 2
}
