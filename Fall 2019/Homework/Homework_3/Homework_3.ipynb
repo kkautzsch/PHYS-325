{
 "cells": [
  {
   "cell_type": "markdown",
   "metadata": {},
   "source": [
    "# Exercise 1"
   ]
  },
  {
   "cell_type": "markdown",
   "metadata": {},
   "source": [
    "#### Part (a)\n",
    "\n",
    "The sine function would be the most accurate because it is using multiplication and division instead of subtraction like in the cosine function. The reason subtraction gives less accuracy is because you are subtracting small values from each other but you are keeping the digits after the 16 digit in python allowing for there to be less accuracy in the measurement. Whereas in the sine function you are keeping those digits that are way out past the decimal allowing for greater accuracy when evaluating the function."
   ]
  },
  {
   "cell_type": "code",
   "execution_count": 5,
   "metadata": {},
   "outputs": [
    {
     "name": "stdout",
     "output_type": "stream",
     "text": [
      "The value for x = 10^-5 in cosine is  0.500000041370185389 and for x = 10^-8 is 0.000000000000000000\n",
      "The value for x = 10^-5 in sine is  0.499999999995833222 and for x = 10^-8 is 0.500000000000000000\n"
     ]
    }
   ],
   "source": [
    "#Kaleb Kautzsch\n",
    "#(b)\n",
    "from math import sin, cos\n",
    "\n",
    "#Differnt floating point x values\n",
    "x1 = float(10**-5)\n",
    "x2 = float(10**-8)\n",
    "\n",
    "#sin and cos formulas for evaluating differnt values of x\n",
    "cos_x1 = (1-cos(x1))/(x1**2)\n",
    "cos_x2 = (1-cos(x2))/(x2**2)\n",
    "\n",
    "sin_x1 = 2*((sin(x1/2))/x1)**2\n",
    "sin_x2 = 2*((sin(x2/2))/x2)**2\n",
    "\n",
    "print(\"The value for x = 10^-5 in cosine is \",'%.18f' % cos_x1, \"and for x = 10^-8 is\", '%.18f' % cos_x2)\n",
    "print(\"The value for x = 10^-5 in sine is \",'%.18f' % sin_x1, \"and for x = 10^-8 is\", '%.18f' % sin_x2)"
   ]
  },
  {
   "cell_type": "markdown",
   "metadata": {},
   "source": [
    "# Exercise 3"
   ]
  },
  {
   "cell_type": "code",
   "execution_count": 5,
   "metadata": {},
   "outputs": [
    {
     "name": "stdout",
     "output_type": "stream",
     "text": [
      "-6.000000000000000888 Determinate\n",
      "\n",
      "[[0. 0. 1.]\n",
      " [1. 0. 0.]\n",
      " [0. 1. 0.]] Permutation\n",
      "\n",
      "[[1.         0.         0.        ]\n",
      " [0.66666667 1.         0.        ]\n",
      " [0.33333333 0.125      1.        ]] Lower Diagonal\n",
      "\n",
      "[[ 3.          8.          7.        ]\n",
      " [ 0.         -5.33333333  2.33333333]\n",
      " [ 0.          0.          0.375     ]] Upper Diagonal\n",
      "\n",
      "[1.00000000e+00 2.77555756e-17 1.11022302e-16] Values for 'x'\n",
      "\n"
     ]
    }
   ],
   "source": [
    "#Kaleb Kautzsch\n",
    "import scipy as sp\n",
    "import scipy.linalg as la\n",
    "\n",
    "#Recreating the array from Exercise 2\n",
    "A = sp.array([[1,2,3],[3,8,7],[2,0,7]])\n",
    "b = sp.array([1,3,2])\n",
    "\n",
    "#Solving for the permutatiion, lower diagonal, and upper diagonal Part (a)\n",
    "P, L, U = la.lu(A)\n",
    "\n",
    "#Solving for x in Part(c)\n",
    "x = la.solve(A,b)\n",
    "\n",
    "#Determinate for funsies\n",
    "d = la.det(A)\n",
    "\n",
    "print('%.18f' % d, \"Determinate\\n\")\n",
    "print(P, \"Permutation\\n\")\n",
    "print(L, \"Lower Diagonal\\n\")\n",
    "print(U, \"Upper Diagonal\\n\")\n",
    "print(x, \"Values for 'x'\\n\")"
   ]
  },
  {
   "cell_type": "markdown",
   "metadata": {},
   "source": [
    "(Part (b) cont.) I believe the results are different because of machine accuracy and it pivoted where I did not, possibly making it more accurate. The results for the linear equation really blew my mind getting this result: [1.00000000e+00 2.77555756e-17 1.11022302e-16] This shows me how much more accurate a computer can be compared to what I can be for really important things in the future.\n",
    "\n",
    "(Part (c) cont.) The answer I got by hand is fractional because I do not know the values for the decimal and possibly cannot know, however the computer has no trouble being able to do this.\n",
    "\n",
    "The determinate is the same as I got so I am confident that I did that right at least. Until I take the float value and even then I am still wrong."
   ]
  },
  {
   "cell_type": "code",
   "execution_count": null,
   "metadata": {},
   "outputs": [],
   "source": []
  }
 ],
 "metadata": {
  "kernelspec": {
   "display_name": "Python 3",
   "language": "python",
   "name": "python3"
  },
  "language_info": {
   "codemirror_mode": {
    "name": "ipython",
    "version": 3
   },
   "file_extension": ".py",
   "mimetype": "text/x-python",
   "name": "python",
   "nbconvert_exporter": "python",
   "pygments_lexer": "ipython3",
   "version": "3.7.3"
  }
 },
 "nbformat": 4,
 "nbformat_minor": 2
}
