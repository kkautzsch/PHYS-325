{
 "cells": [
  {
   "cell_type": "markdown",
   "metadata": {},
   "source": [
    "### Exercise 1\n",
    "\n",
    "For this I am going to refer to the recent black hole imaging of M87 that was done back in April of this year (month the paper was published). This to me was a feat that I believe could be right alongside the discovery of gravitational waves. Before this we had an idea of what a black hole might look like, but up to this point it was never experimentally proven. We believed that theoretically a black hole should hold some spherical geometry, and we also knew that gravity is so intense that light cannot escape. We also believed that because of its geometry light coming from all possible angles would show an event horizon which would inturn show the otherside of the black hole due to the way light bends around it!\n",
    "    \n",
    "One problem that arises with doing something like this is how far away the object is. This causes noise in the data, you also have potential problems with equipment, the way the earth is rotating and when optimal viewing will be, coordinating with different sites around the world to focus in on what is a micrscopic point in the sky etc. The people working on this used a plethora of different methods and mathematics to be able to this a few of which I have not heard of before such as:\n",
    "        \n",
    "- van Cittert-Zernike theorem: related brightness distribution via Fourier Transform\n",
    "- Standard deviation for thermal noise and flux\n",
    "- Gaussian geometry\n",
    "- eht-imaging library\n",
    "- Matrix manipulation\n",
    "- MeqSilhouette a synthetic VLBI data generator that predicts visibilities from both parametric and non-parametric sky models using MeqTrees and WSClean\n",
    "\n",
    "there are more throughout the paper, but these were some I noticed. The progress in the end was the fruits of their labor when they made models of what they expected the black hole to look like and then actually getting the image and finding out their models look identical to the image gathered from the different satelites' data.\n",
    "    \n",
    "Source: https://iopscience.iop.org/article/10.3847/2041-8213/ab0e85/meta#apjlab0e85app3"
   ]
  },
  {
   "cell_type": "code",
   "execution_count": 40,
   "metadata": {},
   "outputs": [
    {
     "name": "stdin",
     "output_type": "stream",
     "text": [
      "Enter a positive number:  4\n"
     ]
    },
    {
     "name": "stdout",
     "output_type": "stream",
     "text": [
      "The factorial of  4  is  24\n"
     ]
    }
   ],
   "source": [
    "#Kaleb Kautzsch\n",
    "#Exercise 2\n",
    "\n",
    "#!/usr/bin/env python3 \n",
    "\n",
    "userInput = input(\"Enter a positive number: \")\n",
    "inputCheck = int(userInput)\n",
    "\n",
    "def f(fibonacci):\n",
    "    # this checks if the number is positive\n",
    "    if fibonacci<0:\n",
    "        print(\"Sorry, the number must be positive\") \n",
    "        print(\"Enter a different number next time, please\")\n",
    "    # this checks to see if input was zero, if input >0 does the factorial of given value\n",
    "    else:\n",
    "        if fibonacci == 0:\n",
    "            return 1\n",
    "        else:\n",
    "            x=1\t# x is the factorial of the input number\n",
    "            for l in range(fibonacci):\n",
    "                x*=l+1\n",
    "            return x\n",
    "\n",
    "print(\"The factorial of \",inputCheck,\" is \",f(inputCheck))"
   ]
  },
  {
   "cell_type": "markdown",
   "metadata": {},
   "source": [
    "A) The code above asks the user to input a positive integer which when entered returns the factorial of that number.\n",
    "\n",
    "B) -10 returns as \"Sorry, the number must be positive. Enter a different number next time, please\" this is the same for -2. 0 returns as 1 and 5 returns a value of 120.\n",
    "\n",
    "C) Redundant comments, bad variable/function names, old function version, \"if\" and \"elif\" statements not being used,\n",
    "\n",
    "D) Cleaner code attached"
   ]
  },
  {
   "cell_type": "code",
   "execution_count": null,
   "metadata": {},
   "outputs": [],
   "source": []
  }
 ],
 "metadata": {
  "kernelspec": {
   "display_name": "Python 3",
   "language": "python",
   "name": "python3"
  },
  "language_info": {
   "codemirror_mode": {
    "name": "ipython",
    "version": 3
   },
   "file_extension": ".py",
   "mimetype": "text/x-python",
   "name": "python",
   "nbconvert_exporter": "python",
   "pygments_lexer": "ipython3",
   "version": "3.6.8"
  }
 },
 "nbformat": 4,
 "nbformat_minor": 2
}
