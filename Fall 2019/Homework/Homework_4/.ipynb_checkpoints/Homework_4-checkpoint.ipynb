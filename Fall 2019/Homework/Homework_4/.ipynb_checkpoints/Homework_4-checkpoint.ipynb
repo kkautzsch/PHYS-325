{
 "cells": [
  {
   "cell_type": "markdown",
   "metadata": {},
   "source": [
    "# Exercise 1\n",
    "\n",
    "#### (a)\n",
    "\n",
    "When looking at all the juncture points and finding out how many each one is connected to and whether they are connected to the top or bottom we find the system of equations is as follows:\n",
    "\n",
    "   $ 3V_1 - V_2 - V_3 - V_4 = 5/2$<br>\n",
    "   $-V_1 + 4V_2 - V_3 - V_4 = 5/2$<br>\n",
    "   $-V_1 - V_2 + 4V_3 - V_4 = 0$<br>\n",
    "   $-V_1 - V_2 - V_3 + 3V_4 = 0$<br>\n",
    "   \n",
    "#### (b)\n",
    "\n",
    "From here it is easy to set up a system of linear equations in matrix form Av=b where v is the unknown voltages:\n",
    "\n",
    "         [[3 -1 -1 0 | 5/2]\n",
    "         [-1 4 -1 -1 | 5/2]\n",
    "         [-1 -1 4 -1 | 0]\n",
    "         [0 -1 -1 3 | 0]]"
   ]
  },
  {
   "cell_type": "code",
   "execution_count": 1,
   "metadata": {},
   "outputs": [
    {
     "name": "stdout",
     "output_type": "stream",
     "text": [
      "[[3.33333333]\n",
      " [3.        ]\n",
      " [2.        ]\n",
      " [1.66666667]] The voltages\n"
     ]
    }
   ],
   "source": [
    "#Kaleb Kautzsch\n",
    "#(c)\n",
    "import scipy as sp\n",
    "import scipy.linalg as la\n",
    "\n",
    "a = sp.array([[3,-1,-1,0],[-1,4,-1,-1],[-1,-1,4,-1],[0,-1,-1,3]]) #The matrix as previously stated\n",
    "b = sp.array([[5],[5],[0],[0]]) #We have to divide by 2 for the intial voltage input because it is connected to two resistors\n",
    "v = la.solve(a,b)\n",
    "\n",
    "print(v, \"The voltages\")"
   ]
  },
  {
   "cell_type": "markdown",
   "metadata": {},
   "source": [
    "# Exercise 2"
   ]
  },
  {
   "cell_type": "code",
   "execution_count": 37,
   "metadata": {},
   "outputs": [
    {
     "name": "stdout",
     "output_type": "stream",
     "text": [
      "[[2.32142857]\n",
      " [1.96428571]\n",
      " [0.53571429]\n",
      " [0.17857143]]\n"
     ]
    }
   ],
   "source": [
    "#Kaleb Kautzsch\n",
    "import numpy as np\n",
    "import scipy.linalg as la\n",
    "import scipy.sparse as sr\n",
    "\n",
    "diagonals = ([[3,4,4,3],[-1,-1,-1],[-1,-1,-1]])\n",
    "a = sr.diags(diagonals, [0,-1,1]).toarray()\n",
    "b = np.array([[5],[5],[0],[0]])\n",
    "v = la.solve(a,b)\n",
    "print(v)"
   ]
  },
  {
   "cell_type": "code",
   "execution_count": null,
   "metadata": {},
   "outputs": [],
   "source": []
  }
 ],
 "metadata": {
  "kernelspec": {
   "display_name": "Python 3",
   "language": "python",
   "name": "python3"
  },
  "language_info": {
   "codemirror_mode": {
    "name": "ipython",
    "version": 3
   },
   "file_extension": ".py",
   "mimetype": "text/x-python",
   "name": "python",
   "nbconvert_exporter": "python",
   "pygments_lexer": "ipython3",
   "version": "3.7.3"
  }
 },
 "nbformat": 4,
 "nbformat_minor": 2
}
