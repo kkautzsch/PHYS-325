{
 "cells": [
  {
   "cell_type": "markdown",
   "metadata": {},
   "source": [
    "# Exercise 1\n",
    "\n",
    "#### (a)\n",
    "\n",
    "When looking at all the juncture points and finding out how many each one is connected to and whether they are connected to the top or bottom we find the system of equations is as follows:\n",
    "\n",
    "   $ 3V_1 - V_2 - V_3 - V_4 = 5$<br>\n",
    "   $-V_1 + 4V_2 - V_3 - V_4 = 5$<br>\n",
    "   $-V_1 - V_2 + 4V_3 - V_4 = 0$<br>\n",
    "   $-V_1 - V_2 - V_3 + 3V_4 = 0$<br>\n",
    "   \n",
    "#### (b)\n",
    "\n",
    "From here it is easy to set up a system of linear equations in matrix form Av=b where v is the unknown voltages:\n",
    "\n",
    "         [[3 -1 -1 0 | 5]\n",
    "         [-1 4 -1 -1 | 5]\n",
    "         [-1 -1 4 -1 | 0]\n",
    "         [0 -1 -1 3 | 0]]"
   ]
  },
  {
   "cell_type": "code",
   "execution_count": 1,
   "metadata": {},
   "outputs": [
    {
     "name": "stdout",
     "output_type": "stream",
     "text": [
      "[[3.33333333]\n",
      " [3.        ]\n",
      " [2.        ]\n",
      " [1.66666667]] The voltages\n"
     ]
    }
   ],
   "source": [
    "#Kaleb Kautzsch\n",
    "#(c)\n",
    "import scipy as sp\n",
    "import scipy.linalg as la\n",
    "\n",
    "a = sp.array([[3,-1,-1,0],[-1,4,-1,-1],[-1,-1,4,-1],[0,-1,-1,3]]) #The matrix as previously stated\n",
    "b = sp.array([[5],[5],[0],[0]]) #We have to divide by 2 for the intial voltage input because it is connected to two resistors\n",
    "v = la.solve(a,b)\n",
    "\n",
    "print(v, \"The voltages\")"
   ]
  },
  {
   "cell_type": "markdown",
   "metadata": {},
   "source": [
    "# Exercise 2"
   ]
  },
  {
   "cell_type": "code",
   "execution_count": 27,
   "metadata": {},
   "outputs": [
    {
     "name": "stdout",
     "output_type": "stream",
     "text": [
      "[[ 3. -1. -1.  0.  0.  0.  0.  0.  0.  0.]\n",
      " [-1.  4. -1. -1.  0.  0.  0.  0.  0.  0.]\n",
      " [-1. -1.  4. -1. -1.  0.  0.  0.  0.  0.]\n",
      " [ 0. -1. -1.  4. -1. -1.  0.  0.  0.  0.]\n",
      " [ 0.  0. -1. -1.  4. -1. -1.  0.  0.  0.]\n",
      " [ 0.  0.  0. -1. -1.  4. -1. -1.  0.  0.]\n",
      " [ 0.  0.  0.  0. -1. -1.  4. -1. -1.  0.]\n",
      " [ 0.  0.  0.  0.  0. -1. -1.  4. -1. -1.]\n",
      " [ 0.  0.  0.  0.  0.  0. -1. -1.  4. -1.]\n",
      " [ 0.  0.  0.  0.  0.  0.  0. -1. -1.  3.]]  Matrix A\n",
      "\n",
      " [[4.12573674]\n",
      " [3.9194499 ]\n",
      " [3.45776031]\n",
      " [3.09430255]\n",
      " [2.69155206]\n",
      " [2.30844794]\n",
      " [1.90569745]\n",
      " [1.54223969]\n",
      " [1.0805501 ]\n",
      " [0.87426326]]  Solution v\n"
     ]
    }
   ],
   "source": [
    "#Kaleb Kautzsch\n",
    "import numpy as np\n",
    "import scipy.linalg as la\n",
    "\n",
    "N = 10\n",
    "a = np.zeros([N,N])\n",
    "b = np.zeros([N,1])\n",
    "b[0,0] = 5\n",
    "b[1,0] = 5\n",
    "\n",
    "def matrix():\n",
    "    for i in range(N):\n",
    "        for j in range(N):\n",
    "            if abs(i-j) == 1 or abs(i-j) == 2:\n",
    "                a[i][j] = -1\n",
    "            elif i == j:\n",
    "                a[i][j] = 4\n",
    "    a[0,0] = 3\n",
    "    a[N-1,N-1] = 3\n",
    "    return a\n",
    "\n",
    "matrix()\n",
    "v = la.solve(matrix(),b)\n",
    "print(matrix(),' Matrix A\\n\\n',v,' Solution v')"
   ]
  },
  {
   "cell_type": "markdown",
   "metadata": {},
   "source": [
    "# Results for N = 4 and N = 10\n",
    "### When N = 4:\n",
    "\n",
    "                                    A = [[ 3. -1. -1.  0.]\n",
    "                                         [-1.  4. -1. -1.]\n",
    "                                         [-1. -1.  4. -1.]\n",
    "                                         [ 0. -1. -1.  3.]]\n",
    "                                         \n",
    "                                    v = [[3.33333333]\n",
    "                                         [3.        ]\n",
    "                                         [2.        ]\n",
    "                                         [1.66666667]]\n",
    "                                         \n",
    "This value for \"v\" is the same calculated in my first code.\n",
    "\n",
    "### When N = 10:\n",
    "\n",
    "                                    A = [[ 3. -1. -1.  0.  0.  0.  0.  0.  0.  0.]\n",
    "                                         [-1.  4. -1. -1.  0.  0.  0.  0.  0.  0.]\n",
    "                                         [-1. -1.  4. -1. -1.  0.  0.  0.  0.  0.]\n",
    "                                         [ 0. -1. -1.  4. -1. -1.  0.  0.  0.  0.]\n",
    "                                         [ 0.  0. -1. -1.  4. -1. -1.  0.  0.  0.]\n",
    "                                         [ 0.  0.  0. -1. -1.  4. -1. -1.  0.  0.]\n",
    "                                         [ 0.  0.  0.  0. -1. -1.  4. -1. -1.  0.]\n",
    "                                         [ 0.  0.  0.  0.  0. -1. -1.  4. -1. -1.]\n",
    "                                         [ 0.  0.  0.  0.  0.  0. -1. -1.  4. -1.]\n",
    "                                         [ 0.  0.  0.  0.  0.  0.  0. -1. -1.  3.]]\n",
    "                                         \n",
    "                                     v = [[4.12573674]\n",
    "                                          [3.9194499 ]\n",
    "                                          [3.45776031]\n",
    "                                          [3.09430255]\n",
    "                                          [2.69155206]\n",
    "                                          [2.30844794]\n",
    "                                          [1.90569745]\n",
    "                                          [1.54223969]\n",
    "                                          [1.0805501 ]\n",
    "                                          [0.87426326]]"
   ]
  },
  {
   "cell_type": "code",
   "execution_count": null,
   "metadata": {},
   "outputs": [],
   "source": []
  },
  {
   "cell_type": "code",
   "execution_count": null,
   "metadata": {},
   "outputs": [],
   "source": []
  }
 ],
 "metadata": {
  "kernelspec": {
   "display_name": "Python 3",
   "language": "python",
   "name": "python3"
  },
  "language_info": {
   "codemirror_mode": {
    "name": "ipython",
    "version": 3
   },
   "file_extension": ".py",
   "mimetype": "text/x-python",
   "name": "python",
   "nbconvert_exporter": "python",
   "pygments_lexer": "ipython3",
   "version": "3.7.3"
  }
 },
 "nbformat": 4,
 "nbformat_minor": 2
}
