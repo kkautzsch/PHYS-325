{
 "cells": [
  {
   "cell_type": "markdown",
   "metadata": {},
   "source": [
    "# Exercise 1\n",
    "### Parts (a-b)\n",
    "\n",
    "<img src=\"HW6_Exercise_1.PNG\">"
   ]
  },
  {
   "cell_type": "code",
   "execution_count": 2,
   "metadata": {},
   "outputs": [
    {
     "name": "stdout",
     "output_type": "stream",
     "text": [
      "Converged to 4.965113997459412 after 23 iterations\n",
      "The temperature of the sun is approx. 5772.456277412568 Kelvin.\n"
     ]
    }
   ],
   "source": [
    "#Kaleb Kautzsch\n",
    "#Parts (c-d)\n",
    "import scipy.constants as cnst\n",
    "from numpy import exp, sign\n",
    "\n",
    "#Reduced Intensity function\n",
    "def I(x):\n",
    "    return 5*exp(-x) + x - 5\n",
    "\n",
    "a = 5\n",
    "b = 0\n",
    "counter = 0\n",
    "accuracy = 1e-6\n",
    "\n",
    "#Statement pulled from lecture notes and changed to fit parameters\n",
    "if(sign(I(a))) != sign(I(b)): #When the signs (1 or -1) do not equal each go into loop\n",
    "    while(abs(a-b) > accuracy): #While the value is greater than the accuracy this is okay\n",
    "        counter += 1\n",
    "        midpoint = (a+b)/2 #Taking the values and creating a new midpoint\n",
    "        if(sign(I(midpoint)) == sign(I(a))): #If the signs are the same change it so the code won't break\n",
    "            a = midpoint\n",
    "        else:\n",
    "            b = midpoint\n",
    "\n",
    "print(\"Converged to\",midpoint, \"after\",counter,\"iterations\")\n",
    "\n",
    "#Create variables to calculate temperature of the sun\n",
    "b = (cnst.c*cnst.h)/(cnst.k*midpoint)\n",
    "temp = b/(502e-9)\n",
    "\n",
    "print(\"The temperature of the sun is approx. \" + str(temp) + \" Kelvin.\")"
   ]
  },
  {
   "cell_type": "markdown",
   "metadata": {},
   "source": [
    "# Exercise 2\n",
    "### Part (a)\n",
    "\n",
    "The corresponding equation for $V_2$ is as follows\n",
    "\n",
    "   - $(V_2-V_+)/R_3+V_2/R_4+I_0[e^{V_2-V_1/V_T}-1]=0$\n",
    "   - $\\frac{V_{2}-V_{1}}{R_{3}$"
   ]
  },
  {
   "cell_type": "code",
   "execution_count": 8,
   "metadata": {},
   "outputs": [
    {
     "name": "stdout",
     "output_type": "stream",
     "text": [
      "[[0.70001161]\n",
      " [1.30001571]] V1 is the top, and V2 is the bottom\n",
      "\n",
      "[-0.00412499]\n",
      "[-0.00058332] The values are essentially zero\n",
      "\n",
      "[0.6000041] The differences are ~ 0.6\n"
     ]
    }
   ],
   "source": [
    "#Kaleb Kautzsch\n",
    "#Part (b)\n",
    "import scipy.optimize as opt\n",
    "from math import exp\n",
    "import numpy as np\n",
    "\n",
    "#Values given\n",
    "plusV = 5 #Volts\n",
    "vT = 0.05 #Volts\n",
    "r1 = 1000 #Ohms\n",
    "r2 = 4000 #Ohms\n",
    "r3 = 3000 #Ohms\n",
    "r4 = 2000 #Ohms\n",
    "I_0 = 3e-9 #Amps\n",
    "\n",
    "#Voltages to solve for\n",
    "# v1 = \n",
    "# v2 = \n",
    "x0 = np.array([[0.7],[1.3]])\n",
    "\n",
    "#Function for V_1\n",
    "def firstJunction(v1,v2):\n",
    "    return (v1-plusV)/r1 + v1/r2 + I_0*(exp((v1-v2)/vT) - 1)\n",
    "\n",
    "#Function for V_2\n",
    "def secondJunction(v1,v2):\n",
    "    return (v2-plusV)/r3 + v2/r4 + I_0*(exp((v1-v2)/vT) - 1)\n",
    "\n",
    "def arrayJunction(v):\n",
    "    return np.array([firstJunction(v[0],v[1]),secondJunction(v[0],v[1])])\n",
    "\n",
    "voltages = opt.newton(arrayJunction,x0)\n",
    "print(voltages,\"V1 is the top, and V2 is the bottom\\n\")\n",
    "print(firstJunction(voltages[0],voltages[1]))\n",
    "print(secondJunction(voltages[0],voltages[1]),\"The values are essentially zero\\n\")\n",
    "print(voltages[1]-voltages[0],\"The differences are ~ 0.6\")"
   ]
  },
  {
   "cell_type": "code",
   "execution_count": null,
   "metadata": {},
   "outputs": [],
   "source": []
  }
 ],
 "metadata": {
  "kernelspec": {
   "display_name": "Python 3",
   "language": "python",
   "name": "python3"
  },
  "language_info": {
   "codemirror_mode": {
    "name": "ipython",
    "version": 3
   },
   "file_extension": ".py",
   "mimetype": "text/x-python",
   "name": "python",
   "nbconvert_exporter": "python",
   "pygments_lexer": "ipython3",
   "version": "3.7.3"
  }
 },
 "nbformat": 4,
 "nbformat_minor": 2
}
