{
 "cells": [
  {
   "cell_type": "markdown",
   "metadata": {},
   "source": [
    "### Exercise 1"
   ]
  },
  {
   "cell_type": "code",
   "execution_count": 7,
   "metadata": {},
   "outputs": [
    {
     "name": "stdin",
     "output_type": "stream",
     "text": [
      "Input a quantum number:  5\n",
      "Input a well width in meters and using scientific notation:  1\n"
     ]
    },
    {
     "name": "stdout",
     "output_type": "stream",
     "text": [
      "The energy from inputs 5 and 1.0 m equals 1.5072882050662024e-36 J\n"
     ]
    }
   ],
   "source": [
    "#Kaleb Kautzsch\n",
    "import math\n",
    "\n",
    "#Constants\n",
    "h_bar = 1.055e-34 #Plancks reduced constant in J*s\n",
    "m_e = 9.11e-31 #Mass of electron in kg\n",
    "pi = math.pi\n",
    "\n",
    "#Input Variables\n",
    "n = int(input(\"Input a quantum number: \")) #Quantum number value asked by user\n",
    "a = float(input(\"Input a well width in meters and using scientific notation: \"))\n",
    "\n",
    "#Formula\n",
    "numerator = n**2*h_bar**2*pi**2\n",
    "denominator = 2*m_e*a**2\n",
    "E = numerator/denominator\n",
    "\n",
    "print(\"The energy from inputs\",n,\"and\",a,\"m equals\",E, \"J\") "
   ]
  },
  {
   "cell_type": "code",
   "execution_count": null,
   "metadata": {},
   "outputs": [],
   "source": []
  }
 ],
 "metadata": {
  "kernelspec": {
   "display_name": "Python 3",
   "language": "python",
   "name": "python3"
  },
  "language_info": {
   "codemirror_mode": {
    "name": "ipython",
    "version": 3
   },
   "file_extension": ".py",
   "mimetype": "text/x-python",
   "name": "python",
   "nbconvert_exporter": "python",
   "pygments_lexer": "ipython3",
   "version": "3.7.3"
  }
 },
 "nbformat": 4,
 "nbformat_minor": 2
}
