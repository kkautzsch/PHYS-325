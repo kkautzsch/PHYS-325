{
 "cells": [
  {
   "cell_type": "markdown",
   "metadata": {},
   "source": [
    "<b><i>Exercise 1<i/><b/>\n",
    "    \n",
    "    For this I am going to refer to the recent black hole imaging of M87 that was done back in April of this year (month the paper was published). This to me was a feat that I believe could be right alongside the \n",
    "    discovery of gravitational waves. Before this we had an idea of what a black hole might look like, but up to this point it was never experimentally proven. We believed that theoretically a \n",
    "    black hole should hold some spherical geometry, and we also knew that gravity is so intense that light cannot escape. We also believed that because of its geometry light coming from all possible \n",
    "    angles would show an event horizon which would inturn show the otherside of the black hole due to the way light bends around it!\n",
    "    \n",
    "    One problem that arises with doing something like this is how far away the object is. This causes noise in the data, you also have potential problems with equipment, the way the earth is rotating and when optimal \n",
    "    viewing will be, coordinating with different sites around the world to focus in on what is a micrscopic point in the sky etc. The people working on this used a plethora of different methods and mathematics \n",
    "    to be able to this a few of which I have not heard of before such as:\n",
    "        -van Cittert-Zernike theorem: related brightness distribution via Fourier Transform\n",
    "        -Standard deviation for thermal noise and flux\n",
    "        -Gaussian geometry\n",
    "        -eht-imaging library\n",
    "        -Matrix manipulation\n",
    "        -MeqSilhouette a synthetic VLBI data generator that predicts visibilities from both parametric and non-parametric sky models using MeqTrees and WSClean\n",
    "\n",
    "    there are more throughout the paper, but these were some I noticed. The progress in the end was the fruits of their labor when they made models of what they expected the \n",
    "    black hole to look like and then actually getting the image and finding out their models look identical to the image gathered from the different satelites' data.\n",
    "    \n",
    "Source: https://iopscience.iop.org/article/10.3847/2041-8213/ab0e85/meta#apjlab0e85app3"
   ]
  },
  {
   "cell_type": "markdown",
   "metadata": {},
   "source": [
    "<b><i>Exercise 2<b/><i/>\n",
    "\n"
   ]
  }
 ],
 "metadata": {
  "kernelspec": {
   "display_name": "Python 3",
   "language": "python",
   "name": "python3"
  },
  "language_info": {
   "codemirror_mode": {
    "name": "ipython",
    "version": 3
   },
   "file_extension": ".py",
   "mimetype": "text/x-python",
   "name": "python",
   "nbconvert_exporter": "python",
   "pygments_lexer": "ipython3",
   "version": "3.6.8"
  }
 },
 "nbformat": 4,
 "nbformat_minor": 2
}
