{
 "cells": [
  {
   "cell_type": "code",
   "execution_count": 110,
   "metadata": {},
   "outputs": [],
   "source": [
    "#Kaleb Kautzsch\n",
    "#Date Started 25-Nov-19\n",
    "#Potts Model in different sized lattices in q-states\n",
    "%matplotlib inline\n",
    "import numpy as np\n",
    "import numpy.random as rand\n",
    "import matplotlib.pyplot as plt \n",
    "from scipy.constants import k"
   ]
  },
  {
   "cell_type": "code",
   "execution_count": 111,
   "metadata": {},
   "outputs": [],
   "source": [
    "#Set the q-state to be observed\n",
    "q = 4\n",
    "\n",
    "#Defining the initial spin for lattice L\n",
    "def initialSpin(L):\n",
    "    S = rand.randint(q,size=(L,L))\n",
    "    return S"
   ]
  },
  {
   "cell_type": "code",
   "execution_count": 112,
   "metadata": {},
   "outputs": [],
   "source": [
    "#Defining the Kronecker delta from the standard Hamiltonian function used for the Pott's Model\n",
    "#which is H_p = J_p*cumsum(delta(n_i,n_j))\n",
    "def kronecker(N1,N2):\n",
    "    \"\"\"Kronecker delta states that it will equal 1 whenever n1=n2 and zero otherwise\"\"\"\n",
    "    if (N1 == N2):\n",
    "        return 1 \n",
    "    else:\n",
    "        return 0"
   ]
  },
  {
   "cell_type": "code",
   "execution_count": 113,
   "metadata": {},
   "outputs": [],
   "source": [
    "#Defining the initial energy needed for the model\n",
    "def initialEnergy(S):\n",
    "    E,L = 0,len(S)\n",
    "    \"\"\"A loop needed to define the Kronecker delta values out to the i and j states\"\"\"\n",
    "    for i in range(L):\n",
    "        for j in range(L):\n",
    "            energyRight = kronecker([i,j], [i,(j+1)%L])\n",
    "            energyBot = kronecker([i,j], [(i+1)%L,j])\n",
    "            E -= energyRight+energyBot\n",
    "    return E"
   ]
  },
  {
   "cell_type": "code",
   "execution_count": 114,
   "metadata": {},
   "outputs": [],
   "source": [
    "#Defining a function for the magnetization of particles\n",
    "def Magnetization(S):\n",
    "    L,m = len(S),0\n",
    "    for i in range(L):\n",
    "        for j in range(L):\n",
    "            \"\"\"If the spin states at 1 and 1 are both equal to what the ith and jth state is add 1 to the magnetization\"\"\"\n",
    "            if(S[1,1] == S[i,j]):\n",
    "                m += 1\n",
    "    \"\"\"Divide by the lattice size to get an average magnetization\"\"\"\n",
    "    m /= (L**2)\n",
    "    return abs(m)"
   ]
  },
  {
   "cell_type": "code",
   "execution_count": 115,
   "metadata": {},
   "outputs": [],
   "source": [
    "#Function for calculating the energy differences in a given lattice\n",
    "def deltaE(S,i,j):\n",
    "    L = len(S)\n",
    "    '''Determining the energy for all neighbors given by Kronecker function'''\n",
    "    energyRight1, energyLeft1 = kronecker(S[i,j], S[i,(j+1)%L]), kronecker(S[i,j], S[i,(j-1)%L])\n",
    "    energyTop1, energyBot1 = kronecker(S[i,j], S[(i-1)%L,j]), kronecker(S[i,j], S[(i+1)%L,j])\n",
    "    Sum1 = -(energyRight1 + energyLeft1 + energyTop1 + energyBot1) #Summation of energies from the exponential\n",
    "    '''Pick a random state from variable q'''\n",
    "    Srand = rand.randint(q)\n",
    "    '''Energy for the next set of neighbors using psudorandom choice from above'''\n",
    "    energyRight2, energyLeft2 = kronecker(Srand, S[i,(j+1)%L]), kronecker(Srand, S[i,(j-1)%L])\n",
    "    energyTop2, energyBot2 = kronecker(Srand, S[(i-1)%L,j]), kronecker(Srand, S[(i+1)%L,j])\n",
    "    Sum2 = -(energyRight2 + energyLeft2 + energyTop2 + energyBot2)\n",
    "    \n",
    "    return Sum2 - Sum1, Srand"
   ]
  },
  {
   "cell_type": "code",
   "execution_count": 116,
   "metadata": {},
   "outputs": [],
   "source": [
    "#Metropolis algorithm update function\n",
    "def Mupdate(S,beta):\n",
    "    L = len(S)\n",
    "    result = 0\n",
    "    '''A for loop to randomly select states within the lattice'''\n",
    "    for k in range(L*L):\n",
    "        i,j = rand.randint(L), rand.randint(L)\n",
    "        energydiff, Srand = deltaE(S,i,j)\n",
    "        if rand.random() < np.exp(-beta*energydiff): #The exponential is the Boltzmann distribution\n",
    "            S[i,j] = Srand\n",
    "            result += energydiff\n",
    "    return result"
   ]
  },
  {
   "cell_type": "code",
   "execution_count": 117,
   "metadata": {},
   "outputs": [],
   "source": [
    "#Function of the main calculation to simulate the model\n",
    "def f(L):\n",
    "    '''Lattice size; Number of points; Thermal Temperature; Index'''\n",
    "    L, N, Ttherm, index = 100, 10000, 1000, 0\n",
    "    '''The critical temperature that is measured in factors of J which determines what phase the magnetization will be in'''\n",
    "    Tc = 2/(np.log(1 + np.sqrt(2)))\n",
    "    Magarray, Temparray = [],[]\n",
    "    '''Calculate and iterate over the change in temperature'''\n",
    "    for T in np.linspace(0.1,2):\n",
    "        beta = 1/k*T\n",
    "        S = initialSpin(L)\n",
    "        E = initialEnergy(S)\n",
    "        energySum = 0\n",
    "        magDensity = 0\n",
    "        '''Update the energy values based on Metropolis updates'''\n",
    "        for i in range(Ttherm):\n",
    "            E += Mupdate(S,beta)\n",
    "        for i in range(N):\n",
    "            E += Mupdate(S,beta)\n",
    "            energySum = E/(L*L) #Average energy in the lattice\n",
    "            m = Magnetization(S)\n",
    "            magDensity += m\n",
    "        '''Append the array's'''    \n",
    "        Magarray.append(magDensity/N)\n",
    "        Temparray.append(T)\n",
    "        index += 1\n",
    "    return Magarray, Temparray"
   ]
  },
  {
   "cell_type": "code",
   "execution_count": 118,
   "metadata": {},
   "outputs": [
    {
     "ename": "KeyboardInterrupt",
     "evalue": "",
     "output_type": "error",
     "traceback": [
      "\u001b[1;31m---------------------------------------------------------------------------\u001b[0m",
      "\u001b[1;31mKeyboardInterrupt\u001b[0m                         Traceback (most recent call last)",
      "\u001b[1;32m<ipython-input-118-c88cba07665c>\u001b[0m in \u001b[0;36m<module>\u001b[1;34m\u001b[0m\n\u001b[1;32m----> 1\u001b[1;33m \u001b[0mM4\u001b[0m\u001b[1;33m,\u001b[0m \u001b[0mT4\u001b[0m \u001b[1;33m=\u001b[0m \u001b[0mf\u001b[0m\u001b[1;33m(\u001b[0m\u001b[1;36m4\u001b[0m\u001b[1;33m)\u001b[0m\u001b[1;33m\u001b[0m\u001b[1;33m\u001b[0m\u001b[0m\n\u001b[0m\u001b[0;32m      2\u001b[0m \u001b[0mplt\u001b[0m\u001b[1;33m.\u001b[0m\u001b[0mplot\u001b[0m\u001b[1;33m(\u001b[0m\u001b[0mT4\u001b[0m\u001b[1;33m,\u001b[0m\u001b[0mM4\u001b[0m\u001b[1;33m)\u001b[0m\u001b[1;33m\u001b[0m\u001b[1;33m\u001b[0m\u001b[0m\n\u001b[0;32m      3\u001b[0m \u001b[0mplt\u001b[0m\u001b[1;33m.\u001b[0m\u001b[0mxlabel\u001b[0m\u001b[1;33m(\u001b[0m\u001b[1;34m'T'\u001b[0m\u001b[1;33m)\u001b[0m\u001b[1;33m\u001b[0m\u001b[1;33m\u001b[0m\u001b[0m\n\u001b[0;32m      4\u001b[0m \u001b[0mplt\u001b[0m\u001b[1;33m.\u001b[0m\u001b[0mylabel\u001b[0m\u001b[1;33m(\u001b[0m\u001b[1;34m'M'\u001b[0m\u001b[1;33m)\u001b[0m\u001b[1;33m\u001b[0m\u001b[1;33m\u001b[0m\u001b[0m\n\u001b[0;32m      5\u001b[0m \u001b[0mplt\u001b[0m\u001b[1;33m.\u001b[0m\u001b[0mtitle\u001b[0m\u001b[1;33m(\u001b[0m\u001b[1;34m'Magnetization for q = 4'\u001b[0m\u001b[1;33m)\u001b[0m\u001b[1;33m\u001b[0m\u001b[1;33m\u001b[0m\u001b[0m\n",
      "\u001b[1;32m<ipython-input-117-966cd19aa362>\u001b[0m in \u001b[0;36mf\u001b[1;34m(L)\u001b[0m\n\u001b[0;32m     17\u001b[0m             \u001b[0mE\u001b[0m \u001b[1;33m+=\u001b[0m \u001b[0mMupdate\u001b[0m\u001b[1;33m(\u001b[0m\u001b[0mS\u001b[0m\u001b[1;33m,\u001b[0m\u001b[0mbeta\u001b[0m\u001b[1;33m)\u001b[0m\u001b[1;33m\u001b[0m\u001b[1;33m\u001b[0m\u001b[0m\n\u001b[0;32m     18\u001b[0m         \u001b[1;32mfor\u001b[0m \u001b[0mi\u001b[0m \u001b[1;32min\u001b[0m \u001b[0mrange\u001b[0m\u001b[1;33m(\u001b[0m\u001b[0mN\u001b[0m\u001b[1;33m)\u001b[0m\u001b[1;33m:\u001b[0m\u001b[1;33m\u001b[0m\u001b[1;33m\u001b[0m\u001b[0m\n\u001b[1;32m---> 19\u001b[1;33m             \u001b[0mE\u001b[0m \u001b[1;33m+=\u001b[0m \u001b[0mMupdate\u001b[0m\u001b[1;33m(\u001b[0m\u001b[0mS\u001b[0m\u001b[1;33m,\u001b[0m\u001b[0mbeta\u001b[0m\u001b[1;33m)\u001b[0m\u001b[1;33m\u001b[0m\u001b[1;33m\u001b[0m\u001b[0m\n\u001b[0m\u001b[0;32m     20\u001b[0m             \u001b[0menergySum\u001b[0m \u001b[1;33m=\u001b[0m \u001b[0mE\u001b[0m\u001b[1;33m/\u001b[0m\u001b[1;33m(\u001b[0m\u001b[0mL\u001b[0m\u001b[1;33m*\u001b[0m\u001b[0mL\u001b[0m\u001b[1;33m)\u001b[0m \u001b[1;31m#Average energy in the lattice\u001b[0m\u001b[1;33m\u001b[0m\u001b[1;33m\u001b[0m\u001b[0m\n\u001b[0;32m     21\u001b[0m             \u001b[0mm\u001b[0m \u001b[1;33m=\u001b[0m \u001b[0mMagnetization\u001b[0m\u001b[1;33m(\u001b[0m\u001b[0mS\u001b[0m\u001b[1;33m)\u001b[0m\u001b[1;33m\u001b[0m\u001b[1;33m\u001b[0m\u001b[0m\n",
      "\u001b[1;32m<ipython-input-116-fb139783db17>\u001b[0m in \u001b[0;36mMupdate\u001b[1;34m(S, beta)\u001b[0m\n\u001b[0;32m      7\u001b[0m         \u001b[0mi\u001b[0m\u001b[1;33m,\u001b[0m\u001b[0mj\u001b[0m \u001b[1;33m=\u001b[0m \u001b[0mrand\u001b[0m\u001b[1;33m.\u001b[0m\u001b[0mrandint\u001b[0m\u001b[1;33m(\u001b[0m\u001b[0mL\u001b[0m\u001b[1;33m)\u001b[0m\u001b[1;33m,\u001b[0m \u001b[0mrand\u001b[0m\u001b[1;33m.\u001b[0m\u001b[0mrandint\u001b[0m\u001b[1;33m(\u001b[0m\u001b[0mL\u001b[0m\u001b[1;33m)\u001b[0m\u001b[1;33m\u001b[0m\u001b[1;33m\u001b[0m\u001b[0m\n\u001b[0;32m      8\u001b[0m         \u001b[0menergydiff\u001b[0m\u001b[1;33m,\u001b[0m \u001b[0mSrand\u001b[0m \u001b[1;33m=\u001b[0m \u001b[0mdeltaE\u001b[0m\u001b[1;33m(\u001b[0m\u001b[0mS\u001b[0m\u001b[1;33m,\u001b[0m\u001b[0mi\u001b[0m\u001b[1;33m,\u001b[0m\u001b[0mj\u001b[0m\u001b[1;33m)\u001b[0m\u001b[1;33m\u001b[0m\u001b[1;33m\u001b[0m\u001b[0m\n\u001b[1;32m----> 9\u001b[1;33m         \u001b[1;32mif\u001b[0m \u001b[0mrand\u001b[0m\u001b[1;33m.\u001b[0m\u001b[0mrandom\u001b[0m\u001b[1;33m(\u001b[0m\u001b[1;33m)\u001b[0m \u001b[1;33m<\u001b[0m \u001b[0mnp\u001b[0m\u001b[1;33m.\u001b[0m\u001b[0mexp\u001b[0m\u001b[1;33m(\u001b[0m\u001b[1;33m-\u001b[0m\u001b[0mbeta\u001b[0m\u001b[1;33m*\u001b[0m\u001b[0menergydiff\u001b[0m\u001b[1;33m)\u001b[0m\u001b[1;33m:\u001b[0m \u001b[1;31m#The exponential is the Boltzmann distribution\u001b[0m\u001b[1;33m\u001b[0m\u001b[1;33m\u001b[0m\u001b[0m\n\u001b[0m\u001b[0;32m     10\u001b[0m             \u001b[0mS\u001b[0m\u001b[1;33m[\u001b[0m\u001b[0mi\u001b[0m\u001b[1;33m,\u001b[0m\u001b[0mj\u001b[0m\u001b[1;33m]\u001b[0m \u001b[1;33m=\u001b[0m \u001b[0mSrand\u001b[0m\u001b[1;33m\u001b[0m\u001b[1;33m\u001b[0m\u001b[0m\n\u001b[0;32m     11\u001b[0m             \u001b[0mresult\u001b[0m \u001b[1;33m+=\u001b[0m \u001b[0menergydiff\u001b[0m\u001b[1;33m\u001b[0m\u001b[1;33m\u001b[0m\u001b[0m\n",
      "\u001b[1;31mKeyboardInterrupt\u001b[0m: "
     ]
    }
   ],
   "source": [
    "M4, T4 = f(4)\n",
    "plt.plot(T4,M4)\n",
    "plt.xlabel('T')\n",
    "plt.ylabel('M')\n",
    "plt.title('Magnetization for q = 4')\n",
    "plt.show()"
   ]
  },
  {
   "cell_type": "code",
   "execution_count": null,
   "metadata": {},
   "outputs": [],
   "source": []
  },
  {
   "cell_type": "code",
   "execution_count": null,
   "metadata": {},
   "outputs": [],
   "source": []
  }
 ],
 "metadata": {
  "kernelspec": {
   "display_name": "Python 3",
   "language": "python",
   "name": "python3"
  },
  "language_info": {
   "codemirror_mode": {
    "name": "ipython",
    "version": 3
   },
   "file_extension": ".py",
   "mimetype": "text/x-python",
   "name": "python",
   "nbconvert_exporter": "python",
   "pygments_lexer": "ipython3",
   "version": "3.7.3"
  }
 },
 "nbformat": 4,
 "nbformat_minor": 2
}
