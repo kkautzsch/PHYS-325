{
 "cells": [
  {
   "cell_type": "code",
   "execution_count": 9,
   "metadata": {},
   "outputs": [],
   "source": [
    "#Kaleb Kautzsch\n",
    "#Date Started 25-Nov-19\n",
    "#Potts Model in different sized lattices in q-states\n",
    "%matplotlib inline\n",
    "import numpy as np\n",
    "import numpy.random as rand\n",
    "import matplotlib.pyplot as plt "
   ]
  },
  {
   "cell_type": "code",
   "execution_count": 47,
   "metadata": {},
   "outputs": [],
   "source": [
    "#Set the q-state to be observed\n",
    "q = 4\n",
    "\n",
    "#Defining the initial spin for lattice L\n",
    "def initialSpin(L):\n",
    "    S = rand.randint(q,size=(L,L))\n",
    "    return S"
   ]
  },
  {
   "cell_type": "code",
   "execution_count": 48,
   "metadata": {},
   "outputs": [],
   "source": [
    "#Defining the Kronecker delta from the standard Hamiltonian function used for the Pott's Model\n",
    "#which is H_p = J_p*cumsum(delta(n_i,n_j))\n",
    "def kronecker(N1,N2):\n",
    "    \"\"\"Kronecker delta states that it will equal 1 whenever n1=n2 and zero otherwise\"\"\"\n",
    "    if (N1 == N2):\n",
    "        return 1 \n",
    "    else:\n",
    "        return 0"
   ]
  },
  {
   "cell_type": "code",
   "execution_count": 49,
   "metadata": {},
   "outputs": [],
   "source": [
    "#Defining the initial energy needed for the model\n",
    "def initialEnergy(S):\n",
    "    E,L = 0,len(S)\n",
    "    \"\"\"A loop needed to define the Kronecker delta values out to the i and j states\"\"\"\n",
    "    for i in range(L):\n",
    "        for j in range(L):\n",
    "            energyRight = kronecker([i,j], [i,(j+1)%L])\n",
    "            energyBot = kronecker([i,j], [(i+1)%L,j])\n",
    "            E -= energyRight+energyBot\n",
    "    return E"
   ]
  },
  {
   "cell_type": "code",
   "execution_count": 50,
   "metadata": {},
   "outputs": [],
   "source": [
    "#Defining a function for the magnetization of particles\n",
    "def Magnetization(S):\n",
    "    L,m = len(S),0\n",
    "    for i in range(L):\n",
    "        for j in range(L):\n",
    "            \"\"\"If the spin states at 1 and 1 are both equal to what the ith and jth state is add 1 to the magnetization\"\"\"\n",
    "            if(S[1,1] == S[i,j]):\n",
    "                m += 1\n",
    "    \"\"\"Divide by the lattice size to get an average magnetization\"\"\"\n",
    "    m /= (L**2)\n",
    "    return abs(m)"
   ]
  },
  {
   "cell_type": "code",
   "execution_count": 51,
   "metadata": {},
   "outputs": [],
   "source": [
    "#Function for calculating the energy differences in a given lattice\n",
    "def deltaE(S,i,j):\n",
    "    L = len(S)\n",
    "    '''Determining the energy for all neighbors given by Kronecker function'''\n",
    "    energyRight1, energyLeft1 = kronecker(S[i,j], S[i,(j+1)%L]), kronecker(S[i,j], S[i,(j-1)%L])\n",
    "    energyTop1, energyBot1 = kronecker(S[i,j], S[(i-1)%L,j]), kronecker(S[i,j], S[(i+1)%L,j])\n",
    "    Sum1 = -(energyRight1 + energyLeft1 + energyTop1 + energyBot1) #Summation of energies from the exponential\n",
    "    '''Pick a random state from variable q'''\n",
    "    Srand = rand.randint(q)\n",
    "    '''Energy for the next set of neighbors using psudorandom choice from above'''\n",
    "    energyRight2, energyLeft2 = kronecker(Srand, S[i,(j+1)%L]), kronecker(Srand, S[i,(j-1)%L])\n",
    "    energyTop2, energyBot2 = kronecker(Srand, S[(i-1)%L,j]), kronecker(Srand, S[(i+1)%L,j])\n",
    "    Sum2 = -(energyRight2 + energyLeft2 + energyTop2 + energyBot2)\n",
    "    \n",
    "    return Sum2 - Sum1, Srand"
   ]
  },
  {
   "cell_type": "code",
   "execution_count": 52,
   "metadata": {},
   "outputs": [],
   "source": [
    "#Metropolis algorithm update function\n",
    "def Mupdate(S,beta):\n",
    "    L = len(S)\n",
    "    result = 0\n",
    "    '''A for loop to randomly select states within the lattice'''\n",
    "    for k in range(L*L):\n",
    "        i,j = rand.randint(L), rand.randint(L)\n",
    "        energydiff, Srand = deltaE(S,i,j)\n",
    "        if rand.random() < np.exp(-beta*energydiff): #The exponential is the Boltzmann distribution\n",
    "            S[i,j] = Srand\n",
    "            result += energydiff\n",
    "    return result"
   ]
  },
  {
   "cell_type": "code",
   "execution_count": 53,
   "metadata": {},
   "outputs": [],
   "source": [
    "#Function of the main calculation to simulate the model\n",
    "def f(L):\n",
    "    '''Lattice size; Number of points; Thermal Temperature; Index'''\n",
    "    L, N, Ttherm, index = 8, 10000, 1000, 0\n",
    "    '''The critical temperature that is measured in factors of J which determines what phase the magnetization will be in'''\n",
    "    Tc = 2/(np.log(1 + np.sqrt(2)))\n",
    "    Magarray, Temparray = [],[]\n",
    "    '''Calculate and iterate over the change in temperature'''\n",
    "    for T in np.linspace(0.1,Tc):\n",
    "        beta = 1/T\n",
    "        S = initialSpin(L)\n",
    "        E = initialEnergy(S)\n",
    "        energySum = 0\n",
    "        magDensity = 0\n",
    "        '''Update the energy values based on Metropolis updates'''\n",
    "        for i in range(Ttherm):\n",
    "            E += Mupdate(S,beta)\n",
    "        for i in range(N):\n",
    "            E += Mupdate(S,beta)\n",
    "            energySum = E/(L*L) #Average energy in the lattice\n",
    "            m = Magnetization(S)\n",
    "            magDensity += m\n",
    "        '''Append the array's'''    \n",
    "        Magarray.append(magDensity/N)\n",
    "        Temparray.append(T)\n",
    "        index += 1\n",
    "    return Magarray, Temparray"
   ]
  },
  {
   "cell_type": "code",
   "execution_count": 54,
   "metadata": {},
   "outputs": [
    {
     "data": {
      "image/png": "[encoded data removed]",
      "text/plain": [
       "<Figure size 432x288 with 1 Axes>"
      ]
     },
     "metadata": {
      "needs_background": "light"
     },
     "output_type": "display_data"
    }
   ],
   "source": [
    "#Lattice Size 500 and q=4,6,8,10\n",
    "M, T = f(500)\n",
    "plt.plot(T,M)\n",
    "plt.xlabel('Temperature')\n",
    "plt.ylabel('Magnetization')\n",
    "plt.xticks(np.arange(min(T),max(T),0.25))\n",
    "plt.title('Magnetization for Lattice size 500 and q = 4')\n",
    "plt.savefig('q_4.png')\n",
    "plt.show()"
   ]
  },
  {
   "cell_type": "code",
   "execution_count": null,
   "metadata": {},
   "outputs": [],
   "source": []
  },
  {
   "cell_type": "code",
   "execution_count": null,
   "metadata": {},
   "outputs": [],
   "source": []
  }
 ],
 "metadata": {
  "kernelspec": {
   "display_name": "Python 3",
   "language": "python",
   "name": "python3"
  },
  "language_info": {
   "codemirror_mode": {
    "name": "ipython",
    "version": 3
   },
   "file_extension": ".py",
   "mimetype": "text/x-python",
   "name": "python",
   "nbconvert_exporter": "python",
   "pygments_lexer": "ipython3",
   "version": "3.7.3"
  }
 },
 "nbformat": 4,
 "nbformat_minor": 2
}
