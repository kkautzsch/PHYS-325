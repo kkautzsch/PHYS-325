{
 "cells": [
  {
   "cell_type": "markdown",
   "metadata": {},
   "source": [
    "# Part (c)"
   ]
  },
  {
   "cell_type": "code",
   "execution_count": 11,
   "metadata": {},
   "outputs": [
    {
     "name": "stdout",
     "output_type": "stream",
     "text": [
      "0.671213701488176 Value between 0 and 1\n",
      "4.312314150222291 Value between 3 and 5\n",
      "5 Integer between 0 and 5\n"
     ]
    }
   ],
   "source": [
    "import numpy.random as npr\n",
    "\n",
    "#Step (i): Print uniformily between 0 and 1\n",
    "print(npr.rand(),'Value between 0 and 1')\n",
    "\n",
    "#Step (ii): Print uniformily between 3 and 5\n",
    "start = 3\n",
    "end = 5\n",
    "interval = end-start\n",
    "print(start + interval*npr.rand(), 'Value between 3 and 5')\n",
    "\n",
    "#Step (iii): A random integer between 0 and 5\n",
    "print(npr.randint(6), 'Integer between 0 and 5')"
   ]
  },
  {
   "cell_type": "code",
   "execution_count": null,
   "metadata": {},
   "outputs": [],
   "source": []
  }
 ],
 "metadata": {
  "kernelspec": {
   "display_name": "Python 3",
   "language": "python",
   "name": "python3"
  },
  "language_info": {
   "codemirror_mode": {
    "name": "ipython",
    "version": 3
   },
   "file_extension": ".py",
   "mimetype": "text/x-python",
   "name": "python",
   "nbconvert_exporter": "python",
   "pygments_lexer": "ipython3",
   "version": "3.7.3"
  }
 },
 "nbformat": 4,
 "nbformat_minor": 2
}
