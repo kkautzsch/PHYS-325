{
 "cells": [
  {
   "cell_type": "markdown",
   "metadata": {},
   "source": [
    "<b><i>Exercise 1<i/><b/>\n",
    "    \n",
    "    A variable in computer science is a term that you are giving a value to whereas in math it is something you solve for in most cases.\n",
    "    A function in computer science is something that needs to be defined and serves whatever purpose the user decides for it.\n",
    "    A function in math a lot of the time is a strict formula that serves a single purpose and is variable dependent."
   ]
  },
  {
   "cell_type": "markdown",
   "metadata": {},
   "source": [
    "<b><i>Exercise 2<i/><b/>\n",
    "    \n",
    "    Code Snippet 1:\n",
    "        This first one should for each iteration of \"i\" in the list add one. It should print 2,1\n",
    "    \n",
    "    Code Snippet 2:\n",
    "        For this one \"i\" equals the variable \"sum\" which equals 0. When going through the \"while\" loop which states as long as \"i\" is less than or equal to 4\n",
    "        continue adding until it is no longer. We then go into \"sum\" where it will add a value of \"i\" then \"i\" will change by a value of itself. After the first\n",
    "        iteration \"i\" has a new value of 1 then it goes through again and changes it value to 2, 3, 4, and stops at 5. Once this happens \"sum\" will add those values\n",
    "        and print 10"
   ]
  },
  {
   "cell_type": "code",
   "execution_count": 7,
   "metadata": {},
   "outputs": [
    {
     "name": "stdin",
     "output_type": "stream",
     "text": [
      "What's the password? password123\n"
     ]
    },
    {
     "name": "stdout",
     "output_type": "stream",
     "text": [
      "Correct Password\n"
     ]
    }
   ],
   "source": [
    "#Kaleb Kautzsch\n",
    "#21-August-2019\n",
    "#Exercise 3\n",
    "\n",
    "greeting = input(\"What's the password?\") #Missing quote mark\n",
    "\n",
    "if greeting in (\"password123\"): #Wrong bracket type\n",
    "    print(\"Correct Password\") #To far indented\n",
    "else: #Wrong statement, missing colon\n",
    "    print(\"Wrong Password\") #Not indented"
   ]
  },
  {
   "cell_type": "code",
   "execution_count": null,
   "metadata": {},
   "outputs": [],
   "source": []
  }
 ],
 "metadata": {
  "kernelspec": {
   "display_name": "Python 3",
   "language": "python",
   "name": "python3"
  },
  "language_info": {
   "codemirror_mode": {
    "name": "ipython",
    "version": 3
   },
   "file_extension": ".py",
   "mimetype": "text/x-python",
   "name": "python",
   "nbconvert_exporter": "python",
   "pygments_lexer": "ipython3",
   "version": "3.6.8"
  }
 },
 "nbformat": 4,
 "nbformat_minor": 2
}
