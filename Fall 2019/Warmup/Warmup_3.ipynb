{
 "cells": [
  {
   "cell_type": "markdown",
   "metadata": {},
   "source": [
    "### Exercise 1"
   ]
  },
  {
   "cell_type": "code",
   "execution_count": 7,
   "metadata": {},
   "outputs": [
    {
     "name": "stdout",
     "output_type": "stream",
     "text": [
      "9\n"
     ]
    }
   ],
   "source": [
    "#Kaleb Kautzsch\n",
    "\n",
    "#(a)\n",
    "\n",
    "def binToDec(binary):\n",
    "    binary1 = binary\n",
    "    decimal, i, n = 0, 0, 0 #variable values all equal to zero\n",
    "    while(binary !=0): \n",
    "        dec = binary % 10 #First taking the modulus to evaluate the remainder\n",
    "        decimal = decimal + dec*pow(2,i) #converting the remainder value adding it and multiply by 2 raised to position\n",
    "        binary = binary//10 #updating binary value and dividing down to the nearest whole number\n",
    "        i+=1 #update and continue until binary > 0\n",
    "    print(decimal)\n",
    "    \n",
    "binToDec(1001) #Conversion: (1 * 2^3) + (0 * 2^2) + (1 * 2^1) + (1 * 2^0) = 9"
   ]
  },
  {
   "cell_type": "code",
   "execution_count": 9,
   "metadata": {},
   "outputs": [
    {
     "name": "stdout",
     "output_type": "stream",
     "text": [
      "0b1111\n",
      "15\n"
     ]
    }
   ],
   "source": [
    "#(b)\n",
    "\n",
    "a = 15\n",
    "binary_a = bin(a)\n",
    "\n",
    "print(binary_a) #just using the bin() function to convert to a binary value\n",
    "print(int(binary_a,2)) #changing it back to the decimal value"
   ]
  },
  {
   "cell_type": "code",
   "execution_count": 11,
   "metadata": {},
   "outputs": [
    {
     "name": "stdout",
     "output_type": "stream",
     "text": [
      ".1100\n"
     ]
    }
   ],
   "source": [
    "#(c)\n",
    "\n",
    "num = 0.75\n",
    "k = 4 #precision decimal value for bonary conversion\n",
    "\n",
    "def fracToBinary(num, k):\n",
    "    binary = \"\" #empty string to change later\n",
    "    \n",
    "    integral = int(num)\n",
    "    \n",
    "    fractional = num - integral\n",
    "    \n",
    "    while(integral):\n",
    "        rem = integral % 2\n",
    "        binary += str(rem);\n",
    "        integral //= 2\n",
    "        \n",
    "    binary = binary[: : -1]\n",
    "    binary += '.'\n",
    "    \n",
    "    while(k):\n",
    "        fractional *= 2\n",
    "        fractBit = int(fractional)\n",
    "        \n",
    "        if (fractBit == 1):\n",
    "            fractional -= fractBit\n",
    "            binary += '1'\n",
    "            \n",
    "        else:\n",
    "            binary += '0'\n",
    "            \n",
    "        k -= 1\n",
    "    return binary\n",
    "\n",
    "print(fracToBinary(num,k))"
   ]
  },
  {
   "cell_type": "markdown",
   "metadata": {},
   "source": [
    "Sources: \n",
    "\n",
    "https://www.geeksforgeeks.org/convert-decimal-fraction-binary-number/ (for part (c)) I was really confused about how to do this one.\n",
    "\n",
    "https://www.geeksforgeeks.org/binary-decimal-vice-versa-python/ (for part (a)) Little less confused and have some understanding\n",
    "         \n",
    "https://www.datacamp.com/community/tutorials/python-data-type-conversion#binocthex (for part (b)) found that bin() function which is really useful!"
   ]
  },
  {
   "cell_type": "markdown",
   "metadata": {},
   "source": [
    "### Exercise 2\n",
    "\n",
    "A roundoff error can occur often since most values that need floating points are never truely the value represented. Python has 53 bits of precision, but even then you can still have a roundoff error. Python and other \"machine\" based programming (such as a calculator) <i>display</i> a diffrent value than what the machine actually knows to be a truer value. This is where a lot of errors can occur because people think they have a \"good enough\" value, but later in a calculation find that it is off from what they need.\n",
    "    \n",
    "Truncation errors often happen when you try to take an infinite value or sum and try to approximate it as a finite value."
   ]
  },
  {
   "cell_type": "code",
   "execution_count": null,
   "metadata": {},
   "outputs": [],
   "source": []
  }
 ],
 "metadata": {
  "kernelspec": {
   "display_name": "Python 3",
   "language": "python",
   "name": "python3"
  },
  "language_info": {
   "codemirror_mode": {
    "name": "ipython",
    "version": 3
   },
   "file_extension": ".py",
   "mimetype": "text/x-python",
   "name": "python",
   "nbconvert_exporter": "python",
   "pygments_lexer": "ipython3",
   "version": "3.7.3"
  }
 },
 "nbformat": 4,
 "nbformat_minor": 2
}
