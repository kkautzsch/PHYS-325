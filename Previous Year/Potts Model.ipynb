{
 "cells": [
  {
   "cell_type": "code",
   "execution_count": 1,
   "metadata": {},
   "outputs": [],
   "source": [
    "#Kaleb Kautzsch\n",
    "#Date Started 21-Nov-18\n",
    "#Potts Model in different sized lattices in q-states\n",
    "\n",
    "#Import the necessary libraries needed to do calculations\n",
    "%matplotlib inline\n",
    "import numpy.random as rand\n",
    "import matplotlib.pyplot as plt\n",
    "\n",
    "#Set the q-state to be observed\n",
    "q = 4 #The second state in which problem has to be solved by numerical means\n",
    "\n",
    "#Defining the initial spin for lattice L\n",
    "def intialSpin(L):\n",
    "    S = rand.randint(q,size=(L,L))\n",
    "    return S\n",
    "\n",
    "#Defining the Kronecker delta from the standard Hamiltonian function used for the Pott's Model\n",
    "#which is H_p = J_p*cumsum(delta(n_i,n_j))\n",
    "def kronecker(N1,N2):\n",
    "    \"\"\"Kronecker delta states that it will equal 1 whenever n1=n2 and zero otherwise\"\"\"\n",
    "    if (N1 == N2):\n",
    "        return 1 \n",
    "    else:\n",
    "        return 0\n",
    "\n",
    "#Defining the initial energy needed for the model\n",
    "def intialEnergy(S):\n",
    "    E,L = 0,len(S)\n",
    "    \"\"\"A loop needed to define the Kronecker delta values out to the i and j states\"\"\"\n",
    "    for i in range(L):\n",
    "        for j in range(L):\n",
    "            energyRight = kronecker(N[i,j], N[i,(j+1)%L])\n",
    "            energyBot = kronecker(N[i,j], N[(i+1)%L,j])\n",
    "            E -= energyRight+energyBot\n",
    "    return E"
   ]
  }
 ],
 "metadata": {
  "kernelspec": {
   "display_name": "Python 3",
   "language": "python",
   "name": "python3"
  },
  "language_info": {
   "codemirror_mode": {
    "name": "ipython",
    "version": 3
   },
   "file_extension": ".py",
   "mimetype": "text/x-python",
   "name": "python",
   "nbconvert_exporter": "python",
   "pygments_lexer": "ipython3",
   "version": "3.6.5"
  }
 },
 "nbformat": 4,
 "nbformat_minor": 2
}
