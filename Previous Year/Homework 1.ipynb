{
 "cells": [
  {
   "cell_type": "markdown",
   "metadata": {},
   "source": [
    "<b>Computational Physics</b>\n",
    "\n",
    "One problem that is trying to be addressed is being able to make better computational models for quasars. Robert Antonucci, professor of astrophysics at the University of California, Santa Barbara wrote a snall commentary piece for <i>Nature</i> stating that the problem is we still dont understand how they emit so much energy. These stellar objects are some that can be seen at the greatest distances (some as far as 13 billion light-years). They allow us to see and make predictions about the origins of the Big Bang. \n",
    "\n",
    "These are also fairly new objects with the first being discovered only 50 years ago. In Antonucci's article he is trying to communicate the need for stronger computational methods to make better models for understanding these highly complex objects. I would agree with him on this since the objects are so far away and the universe is in constant motion it makes it really difficult to analytically observe and study these.\n",
    "\n",
    "Sources: https://phys.org/news/2013-03-astrophysicist-colleagues-quasars.html;\n",
    "         https://www.nature.com/articles/495165a"
   ]
  },
  {
   "cell_type": "code",
   "execution_count": null,
   "metadata": {},
   "outputs": [],
   "source": []
  }
 ],
 "metadata": {
  "kernelspec": {
   "display_name": "Python 3",
   "language": "python",
   "name": "python3"
  },
  "language_info": {
   "codemirror_mode": {
    "name": "ipython",
    "version": 3
   },
   "file_extension": ".py",
   "mimetype": "text/x-python",
   "name": "python",
   "nbconvert_exporter": "python",
   "pygments_lexer": "ipython3",
   "version": "3.6.5"
  }
 },
 "nbformat": 4,
 "nbformat_minor": 2
}
