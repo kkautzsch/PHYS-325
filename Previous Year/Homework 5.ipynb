{
 "cells": [
  {
   "cell_type": "markdown",
   "metadata": {},
   "source": [
    "# Homework 5 Kaleb Kautzsch\n",
    "<b>Exercise 1</b> <i>Relaxation Method</i>\n",
    "\n",
    "Part 1: Solve these equations:\n",
    "\n",
    "$$-x+ay+x^2y=0$$ $$b-ay-x^2y=0$$\n",
    "\n",
    "$$-x=-ay-x^2$$$$x=y(a+x^2)$$$$-y=-b/(a+x^2)$$$$y=b/(a+x^2)$$"
   ]
  },
  {
   "cell_type": "code",
   "execution_count": 9,
   "metadata": {},
   "outputs": [
    {
     "name": "stdout",
     "output_type": "stream",
     "text": [
      "0\n",
      "1.0\n",
      "1.0\n",
      "2.0\n",
      "4.0\n",
      "1.0\n",
      "17.0\n",
      "0.11764705882352941\n",
      "34.11764705882353\n",
      "0.006896551724137931\n",
      "8.034578212623792\n",
      "0.0017167178018883894\n",
      "0.11253848625187172\n",
      "0.030508990462981944\n",
      "0.030895384108474262\n",
      "1.9749869660700328\n",
      "1.976872140028264\n",
      "1.9980927709789018\n",
      "9.806686191264491\n",
      "0.407496014863562\n"
     ]
    }
   ],
   "source": [
    "#Kaleb Kautzsch\n",
    "#Define Variables\n",
    "a = 1\n",
    "b = 2\n",
    "\n",
    "x = 1\n",
    "y = 0\n",
    "\n",
    "#Set up for loop to calculate the iterations over a range to find convergence\n",
    "for k in range(10):\n",
    "    x,y = y*(a+x**2), b/(a+x**2)\n",
    "    print(x)\n",
    "    print(y)"
   ]
  },
  {
   "cell_type": "markdown",
   "metadata": {},
   "source": [
    "As expected these do not converge"
   ]
  },
  {
   "cell_type": "markdown",
   "metadata": {},
   "source": [
    "<b>Part 2:</b> Rearrange and solve doing the same thing as in the previous example\n",
    "\n",
    "Solve for x to get previous answer:\n",
    "$$x=y(a+x^2)$$\n",
    "\n",
    "Solve for b in the second equation:\n",
    "$$b=y(a+x^2)$$\n",
    "\n",
    "Showing this we can say that $$x=b$$ and can substitute it in for b to get a new y equation:\n",
    "$$y=x/(a+x^2)$$\n",
    "\n",
    "Then we can solve for x in this equation to get a new equation for x:\n",
    "\n",
    "$$x=((b/y)-a)^(1/2)$$"
   ]
  },
  {
   "cell_type": "code",
   "execution_count": 8,
   "metadata": {},
   "outputs": [
    {
     "name": "stdout",
     "output_type": "stream",
     "text": [
      "1.0\n",
      "0.5\n",
      "1.7320508075688772\n",
      "0.5\n",
      "1.7320508075688772\n",
      "0.43301270189221935\n",
      "1.902314945932194\n",
      "0.43301270189221935\n",
      "1.902314945932194\n",
      "0.4118632672940252\n",
      "1.9636650714924069\n",
      "0.4118632672940252\n",
      "1.9636650714924069\n",
      "0.40438075610800917\n",
      "1.9864122863201303\n",
      "0.40438075610800917\n",
      "1.9864122863201303\n",
      "0.40163345114218674\n",
      "1.9949097477571613\n",
      "0.40163345114218674\n",
      "1.9949097477571613\n",
      "0.400611243354449\n",
      "1.9980918687165672\n",
      "0.400611243354449\n",
      "1.9980918687165672\n",
      "0.4002290339314792\n",
      "1.9992845505793713\n",
      "0.4002290339314792\n",
      "1.9992845505793713\n",
      "0.40008586211625663\n",
      "1.9997317204769791\n",
      "0.40008586211625663\n",
      "1.9997317204769791\n",
      "0.40003219469412865\n",
      "1.9998993971476058\n",
      "0.40003219469412865\n",
      "1.9998993971476058\n",
      "0.40001207250421084\n",
      "1.9999622742071335\n",
      "0.40001207250421084\n"
     ]
    }
   ],
   "source": [
    "#Kaleb Kautzsch\n",
    "#Import numpy\n",
    "import numpy as np\n",
    "\n",
    "#Write out variables\n",
    "a = 1\n",
    "b = 2\n",
    "\n",
    "x = 1\n",
    "y = 1\n",
    "\n",
    "#Set up for loop to calculate the iterations over a range to find convergence\n",
    "for k in range(20):\n",
    "    x,y = np.sqrt((b/y)-a), x/(a+x**2)\n",
    "    print(x)\n",
    "    print(y)"
   ]
  },
  {
   "cell_type": "markdown",
   "metadata": {},
   "source": [
    "Over these iterations we can see that x will approach 2 and y will converge"
   ]
  },
  {
   "cell_type": "markdown",
   "metadata": {},
   "source": [
    "<b>Exercise 2</b> <i>Bisection Method</i>"
   ]
  },
  {
   "cell_type": "code",
   "execution_count": 2,
   "metadata": {},
   "outputs": [
    {
     "name": "stdout",
     "output_type": "stream",
     "text": [
      "Converged to  4.965113997459412  after  23  iterations\n",
      "The temperature of the sun is approx. 5772.455930929904 Kelvin.\n"
     ]
    }
   ],
   "source": [
    "#Kaleb Kautzsch\n",
    "#Import numpy and scipy \n",
    "import scipy.constants as cnst\n",
    "from numpy import exp, sign\n",
    "\n",
    "#Create a function to return a value\n",
    "def I(x):\n",
    "    return 5*exp(-x) + x - 5\n",
    "\n",
    "#Create variables \n",
    "a = 5\n",
    "b = 0\n",
    "counter = 0\n",
    "accuracy = 1e-6\n",
    "\n",
    "#Statement pulled from lecture notes and changed to fit parameters\n",
    "if(sign(I(a))) != sign(I(b)) :\n",
    "    while(abs(a-b) > accuracy):\n",
    "        counter += 1\n",
    "        midpoint = (a+b)/2\n",
    "        if(sign(I(midpoint)) == sign(I(a))):\n",
    "            a = midpoint\n",
    "        else:\n",
    "            b = midpoint\n",
    "\n",
    "print(\"Converged to \", midpoint, \" after \", counter, \" iterations\")\n",
    "\n",
    "#Create variables to calculate temperature of the sun\n",
    "x = (a+b)/2\n",
    "b = (cnst.c*cnst.h)/(cnst.k*x)\n",
    "temp = b/(502e-9)\n",
    "\n",
    "print(\"The temperature of the sun is approx. \" + str(temp) + \" Kelvin.\")"
   ]
  },
  {
   "cell_type": "code",
   "execution_count": null,
   "metadata": {},
   "outputs": [],
   "source": []
  }
 ],
 "metadata": {
  "kernelspec": {
   "display_name": "Python 3",
   "language": "python",
   "name": "python3"
  },
  "language_info": {
   "codemirror_mode": {
    "name": "ipython",
    "version": 3
   },
   "file_extension": ".py",
   "mimetype": "text/x-python",
   "name": "python",
   "nbconvert_exporter": "python",
   "pygments_lexer": "ipython3",
   "version": "3.6.8"
  }
 },
 "nbformat": 4,
 "nbformat_minor": 2
}
