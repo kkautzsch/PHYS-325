{
 "cells": [
  {
   "cell_type": "markdown",
   "metadata": {},
   "source": [
    "<b>Exercise 1</b> <i>A Circuit of Resistors</i>\n",
    "\n",
    "1. Writing similar equations for all junction points\n",
    "    \n",
    "     $3V_1 - V_2 - V_3 - V_4 = 5$<br>\n",
    "    $-V_1 + 4V_2 - V_3 - V_4 = 5$<br>\n",
    "    $-V_1 - V_2 + 4V_3 - V_4 = 0$<br>\n",
    "    $-V_1 - V_2 - V_3 + 3V_4 = 0$<br>\n",
    "    \n",
    "2. System of Linear equations in the form Av=b\n",
    "    \n",
    "        [[3 -1 -1 0 | 5]\n",
    "         [-1 4 -1 -1 | 5]\n",
    "         [-1 -1 4 -1 | 0]\n",
    "         [0 -1 -1 3 | 0]]"
   ]
  },
  {
   "cell_type": "code",
   "execution_count": 3,
   "metadata": {},
   "outputs": [
    {
     "name": "stdout",
     "output_type": "stream",
     "text": [
      "[[3.33333333]\n",
      " [3.        ]\n",
      " [2.        ]\n",
      " [1.66666667]]\n"
     ]
    }
   ],
   "source": [
    "#Kaleb Kautzsch\n",
    "\n",
    "#Import scipy and numpy\n",
    "import numpy as np\n",
    "import scipy.linalg as la\n",
    "\n",
    "#Create different matrices\n",
    "A = np.matrix([[3, -1, -1, 0],[-1, 4, -1, -1],[-1, -1, 4, -1],[0, -1, -1, 3]])\n",
    "\n",
    "b = np.matrix([[5],[5],[0],[0]])\n",
    "\n",
    "#Use scipy to solve for the series of linear equations\n",
    "v = la.solve(A, b)\n",
    "\n",
    "print(v)"
   ]
  },
  {
   "cell_type": "markdown",
   "metadata": {},
   "source": [
    "<b>Exercise 2</b> <i>A chain of resistors</i>"
   ]
  },
  {
   "cell_type": "code",
   "execution_count": 9,
   "metadata": {},
   "outputs": [
    {
     "name": "stdout",
     "output_type": "stream",
     "text": [
      "[[ 3. -1. -1.  0.  0.  0.  0.  0.  0.  0.]\n",
      " [-1.  4. -1. -1.  0.  0.  0.  0.  0.  0.]\n",
      " [-1. -1.  4. -1. -1.  0.  0.  0.  0.  0.]\n",
      " [ 0. -1. -1.  4. -1. -1.  0.  0.  0.  0.]\n",
      " [ 0.  0. -1. -1.  4. -1. -1.  0.  0.  0.]\n",
      " [ 0.  0.  0. -1. -1.  4. -1. -1.  0.  0.]\n",
      " [ 0.  0.  0.  0. -1. -1.  4. -1. -1.  0.]\n",
      " [ 0.  0.  0.  0.  0. -1. -1.  4. -1. -1.]\n",
      " [ 0.  0.  0.  0.  0.  0. -1. -1.  4. -1.]\n",
      " [ 0.  0.  0.  0.  0.  0.  0. -1. -1.  3.]]\n",
      "[[4.12573674]\n",
      " [3.9194499 ]\n",
      " [3.45776031]\n",
      " [3.09430255]\n",
      " [2.69155206]\n",
      " [2.30844794]\n",
      " [1.90569745]\n",
      " [1.54223969]\n",
      " [1.0805501 ]\n",
      " [0.87426326]]\n"
     ]
    }
   ],
   "source": [
    "#Kaleb Kautzsch\n",
    "\n",
    "#Import programs\n",
    "import numpy as np\n",
    "import scipy.linalg as la\n",
    "\n",
    "#Create matrices of zeros to solve for\n",
    "N = 10 #Changeable variable\n",
    "\n",
    "A = np.zeros([N,N])\n",
    "b = np.zeros((N,1))\n",
    "\n",
    "#Setting appropiate equal values to solve for equations\n",
    "b[0,0] = 5\n",
    "b[1,0] = 5\n",
    "\n",
    "#A for loop to to run operations to solve for any [N,N] matrix\n",
    "for i in range(N):\n",
    "    for j in range (N):\n",
    "        \"\"\"This is the case when the equation subscripts are the same\"\"\"\n",
    "        if i == j:\n",
    "            A[i][j] = 4\n",
    "        elif i == j-1: #Everything starting here down are for the different cases of N in the matrix\n",
    "            A[i][j] = -1\n",
    "        elif i == j+1:\n",
    "            A[i][j] = -1\n",
    "        elif i == j-2:\n",
    "            A[i][j] = -1\n",
    "        elif i == j+2:\n",
    "            A[i][j] = -1\n",
    "\n",
    "A[0,0] = 3\n",
    "A[N-1,N-1] = 3\n",
    "v = la.solve(A,b)\n",
    "\n",
    "print(A)\n",
    "print(v)"
   ]
  },
  {
   "cell_type": "markdown",
   "metadata": {},
   "source": [
    "<b>Results for N = 4 and N = 10</b>\n",
    "When N = 4:\n",
    "\n",
    "                                    A = [[ 3. -1. -1.  0.]\n",
    "                                         [-1.  4. -1. -1.]\n",
    "                                         [-1. -1.  4. -1.]\n",
    "                                         [ 0. -1. -1.  3.]]\n",
    "                                         \n",
    "                                    v = [[3.33333333]\n",
    "                                         [3.        ]\n",
    "                                         [2.        ]\n",
    "                                         [1.66666667]]\n",
    "                                         \n",
    "This value for \"v\" is the same calculated in my first code.\n",
    "\n",
    "When N = 10:\n",
    "\n",
    "                                    A = [[ 3. -1. -1.  0.  0.  0.  0.  0.  0.  0.]\n",
    "                                         [-1.  4. -1. -1.  0.  0.  0.  0.  0.  0.]\n",
    "                                         [-1. -1.  4. -1. -1.  0.  0.  0.  0.  0.]\n",
    "                                         [ 0. -1. -1.  4. -1. -1.  0.  0.  0.  0.]\n",
    "                                         [ 0.  0. -1. -1.  4. -1. -1.  0.  0.  0.]\n",
    "                                         [ 0.  0.  0. -1. -1.  4. -1. -1.  0.  0.]\n",
    "                                         [ 0.  0.  0.  0. -1. -1.  4. -1. -1.  0.]\n",
    "                                         [ 0.  0.  0.  0.  0. -1. -1.  4. -1. -1.]\n",
    "                                         [ 0.  0.  0.  0.  0.  0. -1. -1.  4. -1.]\n",
    "                                         [ 0.  0.  0.  0.  0.  0.  0. -1. -1.  3.]]\n",
    "                                         \n",
    "                                     v = [[4.12573674]\n",
    "                                          [3.9194499 ]\n",
    "                                          [3.45776031]\n",
    "                                          [3.09430255]\n",
    "                                          [2.69155206]\n",
    "                                          [2.30844794]\n",
    "                                          [1.90569745]\n",
    "                                          [1.54223969]\n",
    "                                          [1.0805501 ]\n",
    "                                          [0.87426326]]"
   ]
  }
 ],
 "metadata": {
  "kernelspec": {
   "display_name": "Python 3",
   "language": "python",
   "name": "python3"
  },
  "language_info": {
   "codemirror_mode": {
    "name": "ipython",
    "version": 3
   },
   "file_extension": ".py",
   "mimetype": "text/x-python",
   "name": "python",
   "nbconvert_exporter": "python",
   "pygments_lexer": "ipython3",
   "version": "3.7.3"
  }
 },
 "nbformat": 4,
 "nbformat_minor": 2
}
