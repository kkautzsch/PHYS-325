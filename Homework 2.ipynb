{
 "cells": [
  {
   "cell_type": "markdown",
   "metadata": {},
   "source": [
    "<b>Energy Levels of an Electron</b>"
   ]
  },
  {
   "cell_type": "code",
   "execution_count": 11,
   "metadata": {},
   "outputs": [
    {
     "name": "stdout",
     "output_type": "stream",
     "text": [
      "Please state the well's width in meters: 1\n",
      "Please state the quantum number: 2\n",
      "The energy of the well is <function E at 0x000001A7DEF2DD90>Joules. \n"
     ]
    }
   ],
   "source": [
    "#Import programs\n",
    "import numpy as np\n",
    "\n",
    "#Variables\n",
    "m_e = 9.11e-31 #Mass of electron in kg\n",
    "h_bar = 1.05e-34 #Plancks constant in J*s\n",
    "pi = 3.14 #Pi duh\n",
    "wellWidth = int(input(\"Please state the well's width in meters: \"))\n",
    "qNum = int(input(\"Please state the quantum number: \")) #qNum is the inputed quantum number\n",
    "\n",
    "#Formula function for energy\n",
    "def E():\n",
    "    return ((qNum**2)*(h_bar**2)*(pi**2))/((2*m_e)*(wellWidth**2))\n",
    "\n",
    "print(\"The energy of the well is \" + str(E) + \"Joules. \")"
   ]
  },
  {
   "cell_type": "markdown",
   "metadata": {},
   "source": [
    "<b>Farenheit to Celsius Conversion</b>"
   ]
  },
  {
   "cell_type": "code",
   "execution_count": null,
   "metadata": {},
   "outputs": [],
   "source": []
  }
 ],
 "metadata": {
  "kernelspec": {
   "display_name": "Python 3",
   "language": "python",
   "name": "python3"
  },
  "language_info": {
   "codemirror_mode": {
    "name": "ipython",
    "version": 3
   },
   "file_extension": ".py",
   "mimetype": "text/x-python",
   "name": "python",
   "nbconvert_exporter": "python",
   "pygments_lexer": "ipython3",
   "version": "3.6.5"
  }
 },
 "nbformat": 4,
 "nbformat_minor": 2
}
